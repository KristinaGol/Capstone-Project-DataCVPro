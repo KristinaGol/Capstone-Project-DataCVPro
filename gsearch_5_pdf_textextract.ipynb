{
 "cells": [
  {
   "cell_type": "code",
   "execution_count": 1,
   "metadata": {},
   "outputs": [],
   "source": [
    "# importing required modules \n",
    "from PyPDF2 import PdfReader \n",
    "import re\n",
    "#loading data from sql to python\n",
    "import sql_functions as sf\n",
    "from dotenv import load_dotenv"
   ]
  },
  {
   "cell_type": "code",
   "execution_count": 2,
   "metadata": {},
   "outputs": [
    {
     "name": "stdout",
     "output_type": "stream",
     "text": [
      "2\n",
      "2\n",
      " \n",
      " \n",
      " \n",
      " \n",
      "  \n",
      " \n",
      " \n",
      " alexej michirev  \n",
      "curriculum vitae  \n",
      "work experience  short profile  \n",
      " ph.d student in the department of performance psychology with an \n",
      "interest in optimizing work processes and current states.  \n",
      " hands -on mentality: taking the initiativ e  with tasks and challenges , \n",
      "complemented by a systematic and analytical work approach.   \n",
      " mental flexibility: developed through a variety of multidisciplinary \n",
      "projects within multicultural teams.  \n",
      "   \n",
      "awards  research assistant & doctoral candidate  \n",
      "german sport university cologne – department of performance \n",
      "psychology, cologne, germany  \n",
      "january 2020 – 14. jul y 2023  \n",
      "project management with leadership responsibility  \n",
      "- development, implementation, coordination and budgeting \n",
      "of a scientific project with several cooperation partners  \n",
      "- supervision of student assistants and interns  \n",
      "experimental psychology in basic  research  \n",
      "- design and implementation of scientific experiments  \n",
      "- data acquisition, processing, analysis and visualization  \n",
      "- participants testing in the laboratory  \n",
      "communication  \n",
      "- skilled in scientific and popular writing  \n",
      "- public presentations and lectures e.g. at conferences   \n",
      "academic teaching in  bachelor and master  \n",
      " \n",
      " \n",
      "quality management  \n",
      "medical practic e, bremerhaven  \n",
      "march  2018  – december  2019  \n",
      "- optimization of internal work processes  \n",
      "- personalization , customization , and training of the it \n",
      "system  \n",
      " \n",
      "student  assistant  \n",
      "maastricht university – maastricht, netherlands  \n",
      "february 2014  – august 2016  \n",
      "- constructing experimental study designs , participant s \n",
      "testing in the la boratory, data analysis, and giving talks \n",
      "during colloquia  \n",
      " \n",
      "+49 177  965 659 0 \n",
      "hauptstr. 193, 50169 kerpen  \n",
      "a.michirev@outlook.com  \n",
      "https://www.linkedin.com/in/alexejmichirev/  \n",
      " \n",
      "scientific  profile : \n",
      "https://orcid.org/0000 -0002 -0468 -4636 \n",
      " \n",
      " \n",
      " \n",
      " \n",
      " \n",
      " \n",
      " \n",
      "language s \n",
      "german : proficient  \n",
      "englis h: proficient  \n",
      "russian : mother tongue  \n",
      "dutch :  b2  \n",
      "  \n",
      "ms office  \n",
      "data acquisition  \n",
      "data analysis  (r, jasp, spss)  \n",
      " edp skills  \n",
      "honors  diploma 2016  \n",
      "- multidisciplinary p roject \n",
      "in circular economy  \n",
      "honors  diploma 2014  \n",
      "- research project in \n",
      "experimental psychology  \n",
      " \n",
      " \n"
     ]
    }
   ],
   "source": [
    "# creating a pdf reader object \n",
    "reader_pre = PdfReader('data/CV_pre.pdf') \n",
    "reader_post = PdfReader('data/CV_post.pdf') \n",
    "\n",
    "  \n",
    "# printing number of pages in pdf file \n",
    "print(len(reader_pre.pages)) \n",
    "print(len(reader_post.pages)) \n",
    "\n",
    "  \n",
    "# getting a specific page from the pdf file \n",
    "page_pre = reader_pre.pages[0] \n",
    "page_post = reader_post.pages[0] \n",
    "\n",
    "  \n",
    "# extracting text from page \n",
    "text_pre = page_pre.extract_text().lower() \n",
    "text_post = page_post.extract_text().lower() \n",
    "\n",
    "print(text_pre) "
   ]
  },
  {
   "cell_type": "code",
   "execution_count": 3,
   "metadata": {},
   "outputs": [
    {
     "name": "stdout",
     "output_type": "stream",
     "text": [
      "alexej michirev\n",
      "data analyst\n",
      "0177 9656590 a.michirev@outlook.com\n",
      "linkedin.com/in/alexejmichirev/ kerpen, 50169\n",
      "summary\n",
      "e n t h u s i a s t  d a t a  a n a l y s t  w h o  e x c e l s  i n  s t o r y t e l l i n g  a n d  p r e s e n t a t i o n  o f  t h e  d a t a .  \n",
      "p r o v e n  a b i l i t y  t o  u n d e r s t a n d  c o m p l e x  p h e n o m e n a ,  a s k  t h e  r i g h t  q u e s t i o n s ,  a n d  \n",
      "u t i l i z e  s t a t i s t i c a l  m o d e l s  t o  g a i n  i n s i g h t s .  p r o f i c i e n t  i n  r ,  p y t h o n ,  a n d  s q l .\n",
      "experience\n",
      "research assistant 01/2020 \u0000 07/2023\n",
      "german sport university cologne – \n",
      "department of performance psychologycologne, germany\n",
      "asked questions about human behavior and provided answers by analysing the \n",
      "data with advanced statistical models. experienced in academic teaching \n",
      "including statistics.\n",
      "recorded, transformed, and analysed behavioral data from participants in the \n",
      "lab resulting in 4 experiments and scientific publications.\n",
      "successfully implemented, coordinated, and budgeted a scientific project with \n",
      "several cooperation partners ( ). supervised student assistants \n",
      "and interns.dfg\u0000project\n",
      "publicly presented my research at 3 international conferences.\n",
      "quality manager 03/2018 \u0000 12/2019\n",
      "medical practice bremerhaven, \n",
      "germany\n",
      "student assistant 02/2014 \u0000 08/2016\n",
      "maastricht university maastricht, \n",
      "netherlands\n",
      "experimental study designs, data recording in the laboratory, data analysis, \n",
      "and public presentation\n",
      "education\n",
      "data analyst 11/2023 \u0000 03/2023\n",
      "neueﬁsche remote\n",
      "doctoral degree (dr. rer. nat.) 01/2020 \u0000 01/2024\n",
      "german sport university cologne – \n",
      "department of performance psychologycologne, germany\n",
      "master of science, human decision \n",
      "sciences09/2014 \u0000 08/2016\n",
      "maastricht university maastricht, \n",
      "netherlandsmy life philosophy\n",
      "every day, become a bit \n",
      "better\n",
      "strengths\n",
      "analytical skills\n",
      "proficient in data analysis \n",
      "and statistical modeling\n",
      "hands-on mentality\n",
      "taking the initiative while \n",
      "approaching tasks and \n",
      "challenges\n",
      "mental flexibility\n",
      "experienced in \n",
      "multidisciplinary projects \n",
      "within multicultural teams.\n",
      "skills\n",
      "rpythonsqljasp\n",
      "ms officetableau\n",
      "data collection\n",
      "data transformation\n",
      "data analysisstatistical analysis\n",
      "collaborationresearch\n",
      "achievements\n",
      "doctoral degree\n",
      "advanced basic science and \n",
      "theories by analysing data of \n",
      "innovative experiments.\n",
      "honors diploma\n",
      "multidisciplinary project in \n",
      "circular economy\n",
      "honors diploma\n",
      "research projecte \n",
      "q \n",
      "•\n",
      "•\n",
      "•\n",
      "•g\n",
      "k\n",
      "r\n",
      ";\n",
      "\n",
      "\n"
     ]
    }
   ],
   "source": [
    "print(text_post) \n"
   ]
  },
  {
   "cell_type": "code",
   "execution_count": 4,
   "metadata": {},
   "outputs": [],
   "source": [
    "# load \"other skill list\"\n",
    "schema = 'capstone_datacvpro'\n",
    "\n",
    "df_skills_all = sf.get_dataframe(f' SELECT * FROM {schema}.skills_count_total') # skill table\n",
    "df_skills_top20 = sf.get_dataframe(f' SELECT * FROM {schema}.skills_list_final') # skill table\n",
    "\n",
    "# remove white spaces\n",
    "df_skills_all[\"skill_clean\"] = df_skills_all[\"skill_clean\"].apply(lambda x: x.strip())\n",
    "df_skills_top20[\"skill_clean\"] = df_skills_top20[\"skill_clean\"].apply(lambda x: x.strip())\n",
    "\n"
   ]
  },
  {
   "cell_type": "code",
   "execution_count": 5,
   "metadata": {},
   "outputs": [
    {
     "name": "stdout",
     "output_type": "stream",
     "text": [
      "['sql', 'communication', 'data analysis', 'python', 'computer science', 'tableau', 'statistics', 'research', 'dashboard', 'visualization', 'writing', 'programming', 'presentation', 'data quality', 'sas', 'finance', 'data management', 'leadership', 'business intelligence', 'analytical skills', 'project management', 'git', 'planning', 'data collection', 'sales', 'data mining', 'integration', 'data science', 'collaboration', 'problem solving', 'consulting', 'information systems', 'automation', 'business process', 'microsoft office', 'tracking', 'java', 'economics', 'innovation', 'transformation', 'infrastructure', 'information technology', 'accounting', 'machine learning', 'power bi', 'scale', 'data governance', 'data integrity', 'data modeling', 'big data', 'mapping', 'supervision', 'R', 'financial services', 'decision making', 'spss', 'data system', 'scripting', 'metadata', 'customer service', 'microsoft excel', 'organizational skills', 'perspective', 'relational databases', 'banking', 'timelines', 'troubleshooting', 'javascript', 'database design', 'forecasting', 'time management', 'quality assurance', 'reporting tools', 'critical thinking', 'business analysis', 'investigation', 'quality control', 'algorithms', 'software development', 'statistical packages', 'curiosity', 'data warehousing', 'data engineering', 'data entry', 'nice', 'stored procedure', 'customer experience', 'data integration', 'coordinating', 'mysql', 'detail oriented', 'workflows', 'reconciliation', 'authorization', 'informatics', 'data pipeline', 'business intelligence tools', 'supply chain', 'financial data', 'creativity', 'accountability', 'macros', 'business analytics', 'data architecture', 'numbers', 'data profiling', 'information management', 'reliability', 'data processing', 'business administration', 'process improvements', 'statistical software', 'data element', 'data validation', 'data extraction', 'public health', 'google analytics', 'transparency', 'data mapping', 'risk management', 'data transformation', 'diversity and inclusion', 'quantitative analysis', 'technology solutions', 'key performance indicators', 'prioritization', 'unstructured data', 'requisition', 'engineering management', 'teamwork', 'quality improvement', 'performance metric', 'business acumen', 'raw data', 'spreadsheets', 'business operations', 'logistics', 'management process', 'sourcing', 'unix', 'data manipulation', 'management systems', 'master data management', 'intellectual curiosity', 'microsoft access', 'functional requirement', 'change management', 'snowflake', 'data structures', 'root cause analysis', 'linux', 'predictive modeling', 'onboarding', 'physics', 'user experience', 'microstrategy', 'technical support', 'stewardship', 'data steward', 'business systems', 'statistical methods', 'scheduling', 'test case', 'acceptance testing', 'securities', 'templates', 'calculations', 'financial institution', 'mobile app', 'pandas', 'alteryx', 'security clearance', 'operations research', 'auditing', 'scrum', 'product management', 'predictive analytics', 'strategic planning', 'billing', 'experience design', 'business model', 'production support', 'real estate', 'data security', 'clinical research', 'financial analysis', 'pl/sql', 'digital transformation', 'data dictionary', 'systems analysis', 'life sciences', 'procurement', 'qlikview', 'surveys', 'professionalism', 'program management', 'source data', 'genetics', 'data files', 'epidemiology', 'secret clearance', 'professional services', 'business development', 'investments', 'library', 'drawing', 'quality management', 'performance tuning', 'investment banking', 'managed care', 'application development', 'statistical modeling', 'e-commerce', 'data cleansing', 'asset management', 'functional specification', 'scalability', 'digital marketing', 'reference data', 'cancer', 'capital markets', 'experimentation', 'editing', 'purchasing', 'database systems', 'software engineering', 'test data', 'data migration', 'population health', 'installation', 'crystal reports', 'construction', 'biology', 'service provider', 'fixed income', 'medicaid', 'computer engineering', 'prediction', 'consolidation', 'debugging', 'system requirements', 'configuration management', 'analytical techniques', 'business strategies', 'loans', 'financial modeling', 'operating systems', 'budgeting', 'workday', 'data conversion', 'refining', 'agility', 'negotiation', 'performance improvement', 'requirements analysis', 'exploratory data analysis', 'market data', 'dissemination', 'database development', 'ordinances', 'mobility', 'federal laws', 'sales operations', 'team oriented', 'law enforcement', 'benchmarking', 'imaging', 'health systems', 'collections', 'validations', 'data flow diagram', 'self-motivation', 'bioinformatics', 'teaching', 'C', 'advising', 'arcgis', 'query languages', 'equities', 'derivatives', 'performance reporting', 'electronics', 'database queries', 'adaptability', 'client services', 'cooperation', 'direct-to-consumer', 'B', 'relationship building', 'software development methodologies', 'social sciences', 'data compilation', 'english language', 'sustainability', 'self starter', 'customer relationship management', 'staging', 'long-term care', 'project planning', 'logical data models', 'sql server integration services', 'personalization', 'licensing', 'conceptualization', 'E', 'instrumentation', 'hospitality', 'product marketing', 'creative problem-solving', 'branding', 'multitasking', 'surfacing', 'foods', 'process development', 'electronic data capture', 'product data management', 'virtualization', 'operational data store', 'health care industry', 'team leadership', 'positivity', 'new product development', 'agile software development', 'integrated product team', 'inquiry', 'extract transform load', 'eyes', 'pharmaceuticals', 'finalization', 'development testing', 'streamlines', 'commercialization', 'quantitative data analysis', 'data processing systems', 'maintainability', 'graphing', 'performance analysis', 'professional development programs', 'commissioning', 'data centers', 'self-directed learning', 'machine learning methods', 'amazon redshift', 'technical solution design', 'test planning', 'complex problem solving', 'business process management', 'business partnering', 'instructing', 'proactivity', 'extensible markup language', 'translations', 'systems implementations', 'decisiveness', 'pipelining', 'claims processing', 'business performance management', 'articulation', 'survey data analysis', 'pathing', 'clinical data warehouse', 'retirement planning', 'use case diagram', 'continuous improvement process', 'health care benefits', 'data warehouse systems', 'application programming interface', 'centering', 'digitization', 'good documentation practices', 'advertisement', 'diagramming software', 'employee assistance programs', 'socialization', 'master of business administration', 'real time data', 'new business development', 'capitalization', 'information security management', 'aggregator', 'decision support systems', 'M', 'resourcing', 'report designer', 'survey data collection', 'executable', 'registration evaluation authorisation and restriction of chemicals', 'small business accounting', 'lean product development', 'naturalization', 'hyperion financial reporting', 'itext', 'physician data query', 'alternators', 'humanism', 'production management', 'life cycle assessment', 'cleaned data', 'mobile application software', 'post-hoc analysis', 'amazon data pipeline', 'life insurance sales', 'demonstration skills', 'adoptions', 'market requirements documents', 'storages', 'data encryption standard', 'configuration management databases', 'patient care technician', 'process automation systems', 'operations support systems', 'customer support analyst', 'informatica cloud', 'e-tools', 'concision', 'medical insurance claims', 'compilers', 'friendliness', 'financial business solution', 'zope', 'peoplesoft human resources', 'jira studio', 'enterprise report management', 'lo-nox burner', 'oracle sql developer', 'ibm system z10', 'iterators', 'reproductive health care', 'professional project manager', 'user requirements documents', 'health data specialists', 'human development report', 'deep diving', 'fourgen computer-aided software engineering', 'mathematical economics', 'business support systems', 'apache hive', 'industry standard architecture', 'secondary source maps', 'self service technologies', 'high-level architecture', 'building design', 'web sql databases', 'cross-functional team leadership', 'ad model builder', 'document process automation', 'project-based solutions', 'service industries', 'sage safe x3', 'mfg/pro', 'report generators', 'atlassian confluence', 'ad hoc testing', 'dr-dos', 'microsoft sql servers', 'limiter', 'accessioning', 'amazon marketplace', 'design verification test', 'scholastic read 180', 'chartered financial analyst', 'coloring', 'financial data management', 'patentable subject matter', 'indexer', 'discretization', 'cultivator', 'system programming language', 'data driven instruction', 'idealization', 'controllability', 'customer data integration', 'estimators', 'modulation', 'entry sequenced data set', 'minimum data set', 'acceptance and commitment therapy', 'strategic business unit', 'target 3001!', 'component object model', 'transferable skills analysis', 'receivables', 'database models', 'sas statistical analysis', 'service data objects', 'real time java', 'multiple-system operator', 'data management platforms', 'profile scripting language', 'language experience approach', 'cross-functional coordination', 'reflectivity', 'business objects framework', 'hyperion data management', 'storage area network', 'outliner', 'good agricultural practices', 'consumables', 'offshoring', 'very large databases', 'small business technologies', 'database storage structures', 'interactivity', 'corrective action training', 'data mapper patterns', 'reservations', 'data explorers', 'java data mining', 'environmentalism', 'library for www in perl', 'team performance management', 'agile edge technologies', 'constructability']\n",
      "['sql', 'communication', 'visualization', 'tableau', 'dashboard', 'python', 'research', 'statistics', 'computer science', 'leadership', 'presentation', 'power bi', 'finance', 'planning', 'data science', 'data quality', 'data management', 'programming', 'sas', 'economics']\n"
     ]
    }
   ],
   "source": [
    "skill_list_all = df_skills_all[\"skill_clean\"].tolist()\n",
    "skill_list_top20 = df_skills_top20[\"skill_clean\"].tolist()\n",
    "\n",
    "print(skill_list_all)\n",
    "print(skill_list_top20)"
   ]
  },
  {
   "cell_type": "code",
   "execution_count": 6,
   "metadata": {},
   "outputs": [],
   "source": [
    "# function to match text and skill list\n",
    "def extract_matches(text, strings):\n",
    "    matches = []\n",
    "\n",
    "    for pattern in strings:\n",
    "        match = re.search(pattern, text,re.IGNORECASE)\n",
    "        if match:\n",
    "            matches.append(match.group())\n",
    "\n",
    "    return matches"
   ]
  },
  {
   "cell_type": "code",
   "execution_count": 7,
   "metadata": {},
   "outputs": [
    {
     "name": "stdout",
     "output_type": "stream",
     "text": [
      "['sql', 'data analysis', 'python', 'tableau', 'statistics', 'research', 'presentation', 'analytical skills', 'data collection', 'collaboration', 'transformation', 'r', 'data transformation', 'statistical modeling', 'teaching', 'c', 'cooperation', 'b', 'e', 'm']\n"
     ]
    }
   ],
   "source": [
    "#result_pre = extract_matches(text_pre, skill_list_all)\n",
    "result_post = extract_matches(text_post, skill_list_all)\n",
    "\n",
    "#print(result_pre)\n",
    "print(result_post)\n"
   ]
  },
  {
   "cell_type": "code",
   "execution_count": 8,
   "metadata": {},
   "outputs": [],
   "source": [
    "missing_skills = skill_list_top20 not in result_post"
   ]
  },
  {
   "cell_type": "code",
   "execution_count": 9,
   "metadata": {},
   "outputs": [],
   "source": [
    "missing_skills = [item for item in skill_list_top20 if item not in result_post]"
   ]
  },
  {
   "cell_type": "code",
   "execution_count": 10,
   "metadata": {},
   "outputs": [
    {
     "name": "stdout",
     "output_type": "stream",
     "text": [
      "['communication', 'visualization', 'dashboard', 'computer science', 'leadership', 'power bi', 'finance', 'planning', 'data science', 'data quality', 'data management', 'programming', 'sas', 'economics']\n"
     ]
    }
   ],
   "source": [
    "print(missing_skills)"
   ]
  },
  {
   "cell_type": "code",
   "execution_count": null,
   "metadata": {},
   "outputs": [],
   "source": [
    "manual liste durch job description\n",
    "matches aus job description\n",
    "matches durch cv"
   ]
  }
 ],
 "metadata": {
  "kernelspec": {
   "display_name": "nf_base_capstone",
   "language": "python",
   "name": "python3"
  },
  "language_info": {
   "codemirror_mode": {
    "name": "ipython",
    "version": 3
   },
   "file_extension": ".py",
   "mimetype": "text/x-python",
   "name": "python",
   "nbconvert_exporter": "python",
   "pygments_lexer": "ipython3",
   "version": "3.9.18"
  }
 },
 "nbformat": 4,
 "nbformat_minor": 2
}
