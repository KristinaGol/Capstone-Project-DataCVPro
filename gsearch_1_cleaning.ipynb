{
 "cells": [
  {
   "cell_type": "code",
   "execution_count": 1,
   "metadata": {},
   "outputs": [],
   "source": [
    "import pandas as pd"
   ]
  },
  {
   "cell_type": "code",
   "execution_count": 2,
   "metadata": {},
   "outputs": [],
   "source": [
    "df_raw = pd.read_csv('data/gsearch_jobs.csv')"
   ]
  },
  {
   "cell_type": "code",
   "execution_count": null,
   "metadata": {},
   "outputs": [],
   "source": [
    "df_raw.head()\n",
    "df_raw.info()\n",
    "df_raw.columns"
   ]
  },
  {
   "cell_type": "markdown",
   "metadata": {},
   "source": [
    "Creating a clean data frame only containing descriptions and data_time\n",
    "It will be used for tokenization later"
   ]
  },
  {
   "cell_type": "code",
   "execution_count": 3,
   "metadata": {},
   "outputs": [],
   "source": [
    "#cleaning section for skill mapping. drop all but description and data_time\n",
    "df_prep_token = df_raw.drop(\n",
    "    ['Unnamed: 0', 'company_name', 'location', 'via',\n",
    "       'extensions', 'job_id', 'thumbnail', 'posted_at',\n",
    "       'schedule_type', 'work_from_home', 'salary', 'search_term',\n",
    "       'search_location', 'commute_time', 'salary_pay', 'salary_rate',\n",
    "       'salary_avg', 'salary_min', 'salary_max', 'salary_hourly',\n",
    "       'salary_yearly', 'salary_standardized', 'description_tokens'],\n",
    "      axis = 1\n",
    "      )"
   ]
  },
  {
   "cell_type": "code",
   "execution_count": 4,
   "metadata": {},
   "outputs": [
    {
     "data": {
      "text/html": [
       "<div>\n",
       "<style scoped>\n",
       "    .dataframe tbody tr th:only-of-type {\n",
       "        vertical-align: middle;\n",
       "    }\n",
       "\n",
       "    .dataframe tbody tr th {\n",
       "        vertical-align: top;\n",
       "    }\n",
       "\n",
       "    .dataframe thead th {\n",
       "        text-align: right;\n",
       "    }\n",
       "</style>\n",
       "<table border=\"1\" class=\"dataframe\">\n",
       "  <thead>\n",
       "    <tr style=\"text-align: right;\">\n",
       "      <th></th>\n",
       "      <th>index</th>\n",
       "      <th>title</th>\n",
       "      <th>description</th>\n",
       "      <th>date_time</th>\n",
       "    </tr>\n",
       "  </thead>\n",
       "  <tbody>\n",
       "    <tr>\n",
       "      <th>0</th>\n",
       "      <td>0</td>\n",
       "      <td>Data Analyst</td>\n",
       "      <td>As the leader in cloud-managed IT, Cisco Merak...</td>\n",
       "      <td>2023-08-02 03:00:13.054897</td>\n",
       "    </tr>\n",
       "    <tr>\n",
       "      <th>1</th>\n",
       "      <td>1</td>\n",
       "      <td>Entry Level - Business Data Analyst (Remote)</td>\n",
       "      <td>As a Senior Business Analyst you will contribu...</td>\n",
       "      <td>2023-08-02 03:00:13.054897</td>\n",
       "    </tr>\n",
       "    <tr>\n",
       "      <th>2</th>\n",
       "      <td>2</td>\n",
       "      <td>Data Analyst/Researcher</td>\n",
       "      <td>Overview:\\n\\nAmyx is seeking to hire a Data An...</td>\n",
       "      <td>2023-08-02 03:00:13.054897</td>\n",
       "    </tr>\n",
       "    <tr>\n",
       "      <th>3</th>\n",
       "      <td>3</td>\n",
       "      <td>Data analyst/AI expert to help build a website...</td>\n",
       "      <td>I am looking for someone to help me build an A...</td>\n",
       "      <td>2023-08-02 03:00:13.054897</td>\n",
       "    </tr>\n",
       "    <tr>\n",
       "      <th>4</th>\n",
       "      <td>4</td>\n",
       "      <td>Data Analyst</td>\n",
       "      <td>Position Vacancy – Data Analyst to support the...</td>\n",
       "      <td>2023-08-02 03:00:13.054897</td>\n",
       "    </tr>\n",
       "  </tbody>\n",
       "</table>\n",
       "</div>"
      ],
      "text/plain": [
       "   index                                              title  \\\n",
       "0      0                                       Data Analyst   \n",
       "1      1       Entry Level - Business Data Analyst (Remote)   \n",
       "2      2                            Data Analyst/Researcher   \n",
       "3      3  Data analyst/AI expert to help build a website...   \n",
       "4      4                                       Data Analyst   \n",
       "\n",
       "                                         description  \\\n",
       "0  As the leader in cloud-managed IT, Cisco Merak...   \n",
       "1  As a Senior Business Analyst you will contribu...   \n",
       "2  Overview:\\n\\nAmyx is seeking to hire a Data An...   \n",
       "3  I am looking for someone to help me build an A...   \n",
       "4  Position Vacancy – Data Analyst to support the...   \n",
       "\n",
       "                    date_time  \n",
       "0  2023-08-02 03:00:13.054897  \n",
       "1  2023-08-02 03:00:13.054897  \n",
       "2  2023-08-02 03:00:13.054897  \n",
       "3  2023-08-02 03:00:13.054897  \n",
       "4  2023-08-02 03:00:13.054897  "
      ]
     },
     "execution_count": 4,
     "metadata": {},
     "output_type": "execute_result"
    }
   ],
   "source": [
    "df_prep_token.head()"
   ]
  },
  {
   "cell_type": "code",
   "execution_count": 5,
   "metadata": {},
   "outputs": [
    {
     "name": "stdout",
     "output_type": "stream",
     "text": [
      "<class 'pandas.core.frame.DataFrame'>\n",
      "Index: 32022 entries, 0 to 42150\n",
      "Data columns (total 3 columns):\n",
      " #   Column       Non-Null Count  Dtype         \n",
      "---  ------       --------------  -----         \n",
      " 0   index        32022 non-null  int64         \n",
      " 1   description  32022 non-null  string        \n",
      " 2   date_time    32022 non-null  datetime64[ns]\n",
      "dtypes: datetime64[ns](1), int64(1), string(1)\n",
      "memory usage: 1000.7 KB\n"
     ]
    },
    {
     "data": {
      "text/html": [
       "<div>\n",
       "<style scoped>\n",
       "    .dataframe tbody tr th:only-of-type {\n",
       "        vertical-align: middle;\n",
       "    }\n",
       "\n",
       "    .dataframe tbody tr th {\n",
       "        vertical-align: top;\n",
       "    }\n",
       "\n",
       "    .dataframe thead th {\n",
       "        text-align: right;\n",
       "    }\n",
       "</style>\n",
       "<table border=\"1\" class=\"dataframe\">\n",
       "  <thead>\n",
       "    <tr style=\"text-align: right;\">\n",
       "      <th></th>\n",
       "      <th>index</th>\n",
       "      <th>description</th>\n",
       "      <th>date_time</th>\n",
       "    </tr>\n",
       "  </thead>\n",
       "  <tbody>\n",
       "    <tr>\n",
       "      <th>0</th>\n",
       "      <td>0</td>\n",
       "      <td>as the leader in cloud-managed it, cisco merak...</td>\n",
       "      <td>2023-08-02 03:00:13.054897</td>\n",
       "    </tr>\n",
       "    <tr>\n",
       "      <th>1</th>\n",
       "      <td>1</td>\n",
       "      <td>as a senior business analyst you will contribu...</td>\n",
       "      <td>2023-08-02 03:00:13.054897</td>\n",
       "    </tr>\n",
       "    <tr>\n",
       "      <th>2</th>\n",
       "      <td>2</td>\n",
       "      <td>overview:\n",
       "\n",
       "amyx is seeking to hire a data anal...</td>\n",
       "      <td>2023-08-02 03:00:13.054897</td>\n",
       "    </tr>\n",
       "    <tr>\n",
       "      <th>3</th>\n",
       "      <td>3</td>\n",
       "      <td>i am looking for someone to help me build an a...</td>\n",
       "      <td>2023-08-02 03:00:13.054897</td>\n",
       "    </tr>\n",
       "    <tr>\n",
       "      <th>4</th>\n",
       "      <td>4</td>\n",
       "      <td>position vacancy – data analyst to support the...</td>\n",
       "      <td>2023-08-02 03:00:13.054897</td>\n",
       "    </tr>\n",
       "  </tbody>\n",
       "</table>\n",
       "</div>"
      ],
      "text/plain": [
       "   index                                        description  \\\n",
       "0      0  as the leader in cloud-managed it, cisco merak...   \n",
       "1      1  as a senior business analyst you will contribu...   \n",
       "2      2  overview:\n",
       "\n",
       "amyx is seeking to hire a data anal...   \n",
       "3      3  i am looking for someone to help me build an a...   \n",
       "4      4  position vacancy – data analyst to support the...   \n",
       "\n",
       "                   date_time  \n",
       "0 2023-08-02 03:00:13.054897  \n",
       "1 2023-08-02 03:00:13.054897  \n",
       "2 2023-08-02 03:00:13.054897  \n",
       "3 2023-08-02 03:00:13.054897  \n",
       "4 2023-08-02 03:00:13.054897  "
      ]
     },
     "execution_count": 5,
     "metadata": {},
     "output_type": "execute_result"
    }
   ],
   "source": [
    "df_prep_token[\"title\"] = df_prep_token[\"title\"].apply(lambda x: x.lower() if isinstance(x, str) else x)\n",
    "df_prep_token[\"description\"] = df_prep_token[\"description\"].apply(lambda x: x.lower() if isinstance(x, str) else x)\n",
    "\n",
    "df_prep_token[\"date_time\"] = pd.to_datetime(df_prep_token[\"date_time\"])\n",
    "\n",
    "df_prep_token[\"is_analyst\"] = df_prep_token[\"title\"].str.contains(\"analyst\", case=False) & ~ (df_prep_token[\"title\"].str.contains(\"business analyst\", case=False) | df_prep_token[\"title\"].str.contains(\"bi analyst\", case=False)) # analyst but not business analyst\n",
    "df_prep_token = df_prep_token[(df_prep_token[\"is_analyst\"] == True)]\n",
    "\n",
    "df_prep_token = df_prep_token.drop([\"title\", \"is_analyst\"], axis = 1)\n",
    "\n",
    "df_prep_token[\"description\"] = df_prep_token[\"description\"].astype(\"string\")\n",
    "\n",
    "df_prep_token.info()\n",
    "df_prep_token.head()"
   ]
  },
  {
   "cell_type": "code",
   "execution_count": null,
   "metadata": {},
   "outputs": [],
   "source": [
    "df_prep_token.to_csv(\"data/df_clean_for_token.csv\")"
   ]
  },
  {
   "cell_type": "code",
   "execution_count": null,
   "metadata": {},
   "outputs": [],
   "source": []
  },
  {
   "cell_type": "code",
   "execution_count": null,
   "metadata": {},
   "outputs": [],
   "source": [
    "#cleaning section\n",
    "df = df_raw.drop(\n",
    "    [\"job_id\",\n",
    "      \"thumbnail\" ,\n",
    "      \"commute_time\",\n",
    "      \"salary_pay\", # as we have min-max\n",
    "      \"salary_hourly\",\n",
    "      \"Unnamed: 0\",\n",
    "      \"posted_at\",\n",
    "       ],\n",
    "      axis = 1\n",
    "      )\n",
    "df.tail()"
   ]
  },
  {
   "cell_type": "code",
   "execution_count": null,
   "metadata": {},
   "outputs": [],
   "source": [
    "# converting to types, \"description_tokens\" still object\n",
    "df[[\"title\", \"description\", \"company_name\", \"location\", \"via\", \"extensions\", \"schedule_type\", \"search_term\", \"search_location\", \"salary\", \"salary_rate\"]] = df[[\"title\", \"description\", \"company_name\", \"location\", \"via\", \"extensions\", \"schedule_type\", \"search_term\", \"search_location\", \"salary\", \"salary_rate\"]].astype(\"string\")\n",
    "df[\"work_from_home\"] = df[\"work_from_home\"].astype(\"bool\")\n",
    "df[\"date_time\"] = pd.to_datetime(df[\"date_time\"])\n",
    "df.info()"
   ]
  },
  {
   "cell_type": "code",
   "execution_count": null,
   "metadata": {},
   "outputs": [],
   "source": [
    "#covert to lower strings\n",
    "# title and description changed back to object type --> \"Data Analyst II\" is now \"data analyst ii\"\n",
    "df[\"title\"] = df[\"title\"].apply(lambda x: x.lower() if isinstance(x, str) else x)\n",
    "df[\"description\"] = df[\"description\"].apply(lambda x: x.lower() if isinstance(x, str) else x)\n",
    "\n",
    "# SKILLNER package cant  handle back ticks (’), replacing in df.description\n",
    "df[\"description_cleaned\"] = df[\"description\"].replace('’', \" \")\n",
    "\n",
    "df[\"via\"] = df[\"via\"].apply(lambda x: x.lower() if isinstance(x, str) else x)\n",
    "\n",
    "df[[\"title\", \"description\",\"description_cleaned\", \"via\"]] = df[[\"title\", \"description\",\"description_cleaned\", \"via\"]].astype(\"string\")\n",
    "df.head()\n",
    "#df.info()"
   ]
  },
  {
   "cell_type": "code",
   "execution_count": null,
   "metadata": {},
   "outputs": [],
   "source": [
    "#Getting to know the dataset\n",
    "display(df[\"location\"].value_counts())\n",
    "germany = df[\"location\"].value_counts().get('Germany')\n",
    "print(germany)\n",
    "display(df[\"title\"].value_counts())"
   ]
  },
  {
   "cell_type": "code",
   "execution_count": null,
   "metadata": {},
   "outputs": [],
   "source": [
    "# checking how many data analyst and scientists\n",
    "# manually adjusting the filter \n",
    "df[\"is_analyst\"] = df[\"title\"].str.contains(\"analyst\", case=False) & ~ (df[\"title\"].str.contains(\"business analyst\", case=False) | df[\"title\"].str.contains(\"bi analyst\", case=False)) # analyst but not business analyst\n",
    "print(df[\"is_analyst\"].sum())\n",
    "df[\"is_bi_analyst\"] = df[\"title\"].str.contains(\"business data analyst\", case=False)\n",
    "print(df[\"is_bi_analyst\"].sum())\n",
    "df[\"is_scien\"] = df[\"title\"].str.contains(\"scient\" or \"scienc\", case=False)\n",
    "print(df[\"is_scien\"].sum())\n",
    "df.tail()"
   ]
  },
  {
   "cell_type": "code",
   "execution_count": null,
   "metadata": {},
   "outputs": [],
   "source": [
    "# testing the filters\n",
    "# filtering for df[\"is_analyst\"] based on boolean indexing when df[df[\"is_analyst\"]] is true\n",
    "filtered_df = df[df[\"is_analyst\"]]\n",
    "\n",
    "# manual inspection\n",
    "display(filtered_df[[\"title\", \"is_analyst\"]])"
   ]
  },
  {
   "cell_type": "code",
   "execution_count": null,
   "metadata": {},
   "outputs": [],
   "source": [
    "#where jobs are from, glassdoor = 0, \n",
    "#FIX ME , there was the word indeed, but doesnt show here\n",
    "df[\"via\"].str.contains(\"indeed\").sum()\n",
    "\n",
    "df[\"via\"].str.contains(\"glassdoor\").sum()\n",
    "indexes_with_glassdoor = df[df[\"via\"].str.contains(\"glassdoor\")].index\n",
    "print(indexes_with_glassdoor)\n",
    "df[\"via\"].loc[12579]\n",
    "df[\"date_time\"].loc[12444]"
   ]
  },
  {
   "cell_type": "code",
   "execution_count": null,
   "metadata": {},
   "outputs": [],
   "source": [
    "# FINAL FILTER, create df_cleaned, finally create df_main\n",
    "# Decision to integrate every title that is analyst but not business analyst or bi analyst which still can overlap with some other titles that are also in the same title description\n",
    "df_cleaned = df[(df[\"is_analyst\"] == True)]\n",
    "\n",
    "print(df_cleaned.shape)\n",
    "\n",
    "df_main = df_cleaned.copy()"
   ]
  },
  {
   "cell_type": "code",
   "execution_count": null,
   "metadata": {},
   "outputs": [],
   "source": [
    "#starting tokenization\n",
    "#a random list of skills to check if tokenization works and for first impressions of the df\n",
    "skills_list = [\"python\", \"sql\", \"tableau\", \"bi tool\", \"power bi\", \"aws\", \"azure\", \"excel\", \"powerpoint\"]# R als entity!!!  # start with these two skills\n",
    "#r'\\b(r)\\b'   --> how to extract the stand-alone r\n",
    "\n",
    "# create new columns for each skill\n",
    "for skill in skills_list:\n",
    "    df_main[skill] = df_main['description'].apply(lambda x: 1 if skill.lower() in x.lower() else 0)"
   ]
  },
  {
   "cell_type": "code",
   "execution_count": null,
   "metadata": {},
   "outputs": [],
   "source": [
    "df_main[[\"python\", \"sql\", \"tableau\", \"aws\", \"azure\", \"excel\", \"powerpoint\", \"power bi\"]].sum(axis=0).sort_values(ascending = False)"
   ]
  },
  {
   "cell_type": "code",
   "execution_count": null,
   "metadata": {},
   "outputs": [],
   "source": [
    "df_main.to_csv(\"data/gsearch_cleaned.csv\")"
   ]
  }
 ],
 "metadata": {
  "kernelspec": {
   "display_name": "nf_base_capstone",
   "language": "python",
   "name": "python3"
  },
  "language_info": {
   "codemirror_mode": {
    "name": "ipython",
    "version": 3
   },
   "file_extension": ".py",
   "mimetype": "text/x-python",
   "name": "python",
   "nbconvert_exporter": "python",
   "pygments_lexer": "ipython3",
   "version": "3.9.18"
  }
 },
 "nbformat": 4,
 "nbformat_minor": 2
}
