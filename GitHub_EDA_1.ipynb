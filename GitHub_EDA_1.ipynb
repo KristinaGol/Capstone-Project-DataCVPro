{
 "cells": [
  {
   "cell_type": "markdown",
   "metadata": {},
   "source": [
    "Data preparation:\n",
    "* Load data: Load data from various sources such as CSV files, databases or APIs.\n",
    "* Clean data: Remove missing values, duplicates and inconsistent data.\n",
    "* Transform data: Perform data manipulations such as converting data types, creating new variables and aggregating data.\n",
    "* Explore data: Examine the distribution of data, Identify outliers and correlations between variables."
   ]
  },
  {
   "cell_type": "markdown",
   "metadata": {},
   "source": [
    "Load data: Load data from various sources such as CSV files, databases or APIs.\n"
   ]
  },
  {
   "cell_type": "code",
   "execution_count": 1,
   "metadata": {},
   "outputs": [],
   "source": [
    "# import the necessary libraries you need for your analysis\n",
    "import pandas as pd\n",
    "import matplotlib.pyplot as plt\n",
    "import seaborn as sns"
   ]
  },
  {
   "cell_type": "code",
   "execution_count": 2,
   "metadata": {},
   "outputs": [],
   "source": [
    "# Floats (decimal numbers) should be displayed rounded with 2 decimal places\n",
    "pd.options.display.float_format = \"{:,.2f}\".format\n",
    "# Set style for plots\n",
    "plt.style.use('fivethirtyeight') "
   ]
  },
  {
   "cell_type": "code",
   "execution_count": 3,
   "metadata": {},
   "outputs": [
    {
     "data": {
      "text/html": [
       "<div>\n",
       "<style scoped>\n",
       "    .dataframe tbody tr th:only-of-type {\n",
       "        vertical-align: middle;\n",
       "    }\n",
       "\n",
       "    .dataframe tbody tr th {\n",
       "        vertical-align: top;\n",
       "    }\n",
       "\n",
       "    .dataframe thead th {\n",
       "        text-align: right;\n",
       "    }\n",
       "</style>\n",
       "<table border=\"1\" class=\"dataframe\">\n",
       "  <thead>\n",
       "    <tr style=\"text-align: right;\">\n",
       "      <th></th>\n",
       "      <th>login</th>\n",
       "      <th>avatar_url</th>\n",
       "      <th>type</th>\n",
       "      <th>site_admin</th>\n",
       "      <th>name</th>\n",
       "      <th>company</th>\n",
       "      <th>blog</th>\n",
       "      <th>location</th>\n",
       "      <th>email</th>\n",
       "      <th>hireable</th>\n",
       "      <th>bio</th>\n",
       "      <th>twitter_username</th>\n",
       "      <th>public_repos</th>\n",
       "      <th>public_gists</th>\n",
       "      <th>followers</th>\n",
       "      <th>following</th>\n",
       "      <th>created_at</th>\n",
       "      <th>updated_at</th>\n",
       "    </tr>\n",
       "  </thead>\n",
       "  <tbody>\n",
       "    <tr>\n",
       "      <th>0</th>\n",
       "      <td>torvalds</td>\n",
       "      <td>https://avatars.githubusercontent.com/u/102402...</td>\n",
       "      <td>User</td>\n",
       "      <td>False</td>\n",
       "      <td>Linus Torvalds</td>\n",
       "      <td>Linux Foundation</td>\n",
       "      <td>NaN</td>\n",
       "      <td>Portland, OR</td>\n",
       "      <td>NaN</td>\n",
       "      <td>NaN</td>\n",
       "      <td>NaN</td>\n",
       "      <td>NaN</td>\n",
       "      <td>7.00</td>\n",
       "      <td>0.00</td>\n",
       "      <td>192,033.00</td>\n",
       "      <td>0.00</td>\n",
       "      <td>2011-09-03T15:26:22Z</td>\n",
       "      <td>2023-08-15T05:21:45Z</td>\n",
       "    </tr>\n",
       "    <tr>\n",
       "      <th>1</th>\n",
       "      <td>yyx990803</td>\n",
       "      <td>https://avatars.githubusercontent.com/u/499550...</td>\n",
       "      <td>User</td>\n",
       "      <td>False</td>\n",
       "      <td>Evan You</td>\n",
       "      <td>vuejs</td>\n",
       "      <td>http://evanyou.me</td>\n",
       "      <td>Singapore</td>\n",
       "      <td>NaN</td>\n",
       "      <td>NaN</td>\n",
       "      <td>NaN</td>\n",
       "      <td>NaN</td>\n",
       "      <td>185.00</td>\n",
       "      <td>72.00</td>\n",
       "      <td>95,692.00</td>\n",
       "      <td>95.00</td>\n",
       "      <td>2010-11-28T01:05:40Z</td>\n",
       "      <td>2023-09-26T13:44:39Z</td>\n",
       "    </tr>\n",
       "    <tr>\n",
       "      <th>2</th>\n",
       "      <td>gaearon</td>\n",
       "      <td>https://avatars.githubusercontent.com/u/810438...</td>\n",
       "      <td>User</td>\n",
       "      <td>False</td>\n",
       "      <td>dan</td>\n",
       "      <td>@bluesky-social</td>\n",
       "      <td>NaN</td>\n",
       "      <td>NaN</td>\n",
       "      <td>dan.abramov@gmail.com</td>\n",
       "      <td>NaN</td>\n",
       "      <td>NaN</td>\n",
       "      <td>dan_abramov</td>\n",
       "      <td>267.00</td>\n",
       "      <td>78.00</td>\n",
       "      <td>84,989.00</td>\n",
       "      <td>172.00</td>\n",
       "      <td>2011-05-25T18:18:31Z</td>\n",
       "      <td>2023-08-28T19:01:10Z</td>\n",
       "    </tr>\n",
       "    <tr>\n",
       "      <th>3</th>\n",
       "      <td>ruanyf</td>\n",
       "      <td>https://avatars.githubusercontent.com/u/905434...</td>\n",
       "      <td>User</td>\n",
       "      <td>False</td>\n",
       "      <td>Ruan YiFeng</td>\n",
       "      <td>NaN</td>\n",
       "      <td>https://twitter.com/ruanyf</td>\n",
       "      <td>Shanghai, China</td>\n",
       "      <td>yifeng.ruan@gmail.com</td>\n",
       "      <td>NaN</td>\n",
       "      <td>NaN</td>\n",
       "      <td>NaN</td>\n",
       "      <td>68.00</td>\n",
       "      <td>27.00</td>\n",
       "      <td>76,530.00</td>\n",
       "      <td>0.00</td>\n",
       "      <td>2011-07-10T01:07:17Z</td>\n",
       "      <td>2023-09-28T06:43:20Z</td>\n",
       "    </tr>\n",
       "    <tr>\n",
       "      <th>4</th>\n",
       "      <td>peng-zhihui</td>\n",
       "      <td>https://avatars.githubusercontent.com/u/129948...</td>\n",
       "      <td>User</td>\n",
       "      <td>False</td>\n",
       "      <td>稚晖</td>\n",
       "      <td>HUAWEI Research</td>\n",
       "      <td>http://www.pengzhihui.xyz</td>\n",
       "      <td>Shanghai</td>\n",
       "      <td>peng-zhihui@foxmail.com</td>\n",
       "      <td>NaN</td>\n",
       "      <td>野生钢铁侠本侠。</td>\n",
       "      <td>NaN</td>\n",
       "      <td>56.00</td>\n",
       "      <td>0.00</td>\n",
       "      <td>73,963.00</td>\n",
       "      <td>9.00</td>\n",
       "      <td>2015-06-22T04:59:39Z</td>\n",
       "      <td>2023-10-04T03:24:07Z</td>\n",
       "    </tr>\n",
       "  </tbody>\n",
       "</table>\n",
       "</div>"
      ],
      "text/plain": [
       "         login                                         avatar_url  type  \\\n",
       "0     torvalds  https://avatars.githubusercontent.com/u/102402...  User   \n",
       "1    yyx990803  https://avatars.githubusercontent.com/u/499550...  User   \n",
       "2      gaearon  https://avatars.githubusercontent.com/u/810438...  User   \n",
       "3       ruanyf  https://avatars.githubusercontent.com/u/905434...  User   \n",
       "4  peng-zhihui  https://avatars.githubusercontent.com/u/129948...  User   \n",
       "\n",
       "   site_admin            name           company                        blog  \\\n",
       "0       False  Linus Torvalds  Linux Foundation                         NaN   \n",
       "1       False        Evan You             vuejs           http://evanyou.me   \n",
       "2       False             dan  @bluesky-social                          NaN   \n",
       "3       False     Ruan YiFeng               NaN  https://twitter.com/ruanyf   \n",
       "4       False              稚晖   HUAWEI Research   http://www.pengzhihui.xyz   \n",
       "\n",
       "          location                    email hireable       bio  \\\n",
       "0     Portland, OR                      NaN      NaN       NaN   \n",
       "1        Singapore                      NaN      NaN       NaN   \n",
       "2              NaN    dan.abramov@gmail.com      NaN       NaN   \n",
       "3  Shanghai, China    yifeng.ruan@gmail.com      NaN       NaN   \n",
       "4         Shanghai  peng-zhihui@foxmail.com      NaN  野生钢铁侠本侠。   \n",
       "\n",
       "  twitter_username  public_repos  public_gists  followers  following  \\\n",
       "0              NaN          7.00          0.00 192,033.00       0.00   \n",
       "1              NaN        185.00         72.00  95,692.00      95.00   \n",
       "2      dan_abramov        267.00         78.00  84,989.00     172.00   \n",
       "3              NaN         68.00         27.00  76,530.00       0.00   \n",
       "4              NaN         56.00          0.00  73,963.00       9.00   \n",
       "\n",
       "             created_at            updated_at  \n",
       "0  2011-09-03T15:26:22Z  2023-08-15T05:21:45Z  \n",
       "1  2010-11-28T01:05:40Z  2023-09-26T13:44:39Z  \n",
       "2  2011-05-25T18:18:31Z  2023-08-28T19:01:10Z  \n",
       "3  2011-07-10T01:07:17Z  2023-09-28T06:43:20Z  \n",
       "4  2015-06-22T04:59:39Z  2023-10-04T03:24:07Z  "
      ]
     },
     "execution_count": 3,
     "metadata": {},
     "output_type": "execute_result"
    }
   ],
   "source": [
    "# read in csv file and display first 5 rows of datset\n",
    "df = pd.read_csv(\"/Users/aileenpfleiderer/Desktop/GitHub_datasets_Aileen/github_users.csv\")\n",
    "df.head()"
   ]
  },
  {
   "cell_type": "code",
   "execution_count": 4,
   "metadata": {},
   "outputs": [
    {
     "data": {
      "text/plain": [
       "Index(['login', 'avatar_url', 'type', 'site_admin', 'name', 'company', 'blog',\n",
       "       'location', 'email', 'hireable', 'bio', 'twitter_username',\n",
       "       'public_repos', 'public_gists', 'followers', 'following', 'created_at',\n",
       "       'updated_at'],\n",
       "      dtype='object')"
      ]
     },
     "execution_count": 4,
     "metadata": {},
     "output_type": "execute_result"
    }
   ],
   "source": [
    "# check which columns are included in our dataframe\n",
    "df.columns"
   ]
  },
  {
   "cell_type": "code",
   "execution_count": 5,
   "metadata": {},
   "outputs": [
    {
     "data": {
      "text/plain": [
       "(150202, 18)"
      ]
     },
     "execution_count": 5,
     "metadata": {},
     "output_type": "execute_result"
    }
   ],
   "source": [
    "# Let's have a look at the shape of our dataset, meaning how long and wide it is.\n",
    "df.shape"
   ]
  },
  {
   "cell_type": "markdown",
   "metadata": {},
   "source": [
    "Clean data: Remove missing values, duplicates and inconsistent data."
   ]
  },
  {
   "cell_type": "code",
   "execution_count": 6,
   "metadata": {},
   "outputs": [
    {
     "name": "stdout",
     "output_type": "stream",
     "text": [
      "<class 'pandas.core.frame.DataFrame'>\n",
      "RangeIndex: 150202 entries, 0 to 150201\n",
      "Data columns (total 18 columns):\n",
      " #   Column            Non-Null Count   Dtype  \n",
      "---  ------            --------------   -----  \n",
      " 0   login             150202 non-null  object \n",
      " 1   avatar_url        150202 non-null  object \n",
      " 2   type              150202 non-null  object \n",
      " 3   site_admin        150202 non-null  bool   \n",
      " 4   name              138120 non-null  object \n",
      " 5   company           73999 non-null   object \n",
      " 6   blog              99112 non-null   object \n",
      " 7   location          110605 non-null  object \n",
      " 8   email             69007 non-null   object \n",
      " 9   hireable          38183 non-null   object \n",
      " 10  bio               96058 non-null   object \n",
      " 11  twitter_username  50959 non-null   object \n",
      " 12  public_repos      150202 non-null  float64\n",
      " 13  public_gists      150202 non-null  float64\n",
      " 14  followers         150202 non-null  float64\n",
      " 15  following         150202 non-null  float64\n",
      " 16  created_at        150202 non-null  object \n",
      " 17  updated_at        150202 non-null  object \n",
      "dtypes: bool(1), float64(4), object(13)\n",
      "memory usage: 19.6+ MB\n"
     ]
    }
   ],
   "source": [
    "# We now want to check out our data-types as well as get a feeling for possible missing values\n",
    "df.info()"
   ]
  },
  {
   "cell_type": "markdown",
   "metadata": {},
   "source": [
    "**Data-types**  \n",
    "- object: We see that we have a lot of object data-types in our dataset. This means, we have strings (meaning text) or mixed data-types in these columns. \n",
    "\n",
    "#   Column            Non-Null Count   Dtype  \n",
    "---  ------            --------------   -----  \n",
    " 0   login             150202 non-null  object \n",
    " 1   avatar_url        150202 non-null  object \n",
    " 2   type              150202 non-null  object   \n",
    " 4   name              138120 non-null  object \n",
    " 5   company           73999 non-null   object \n",
    " 6   blog              99112 non-null   object \n",
    " 7   location          110605 non-null  object \n",
    " 8   email             69007 non-null   object \n",
    " 9   hireable          38183 non-null   object \n",
    " 10  bio               96058 non-null   object \n",
    " 11  twitter_username  50959 non-null   object \n",
    " 16  created_at        150202 non-null  object \n",
    " 17  updated_at        150202 non-null  object \n",
    "\n",
    "Do we need to change our data-types into a date format or sth. else?. We will keep that in mind and come back to this later.  \n",
    "\n",
    "- int64: We do not have any int values so far\n",
    "  \n",
    "- bool: Reg. the side_admin-value: \n",
    "The boolean type indicates, that values are either True or False in these columns - which makes sense when looking at our column names and descriptions:\n",
    "Not everyone can become a \"site_admin\" on GitHub. This role is typically granted by GitHub itself, based on criteria such as expertise, experience, and contributions to the GitHub community. Site administrators are selected individuals with extensive knowledge of the GitHub platform, software development, open-source communities, and platform administration. There is no public application process; individuals are usually invited by GitHub to assume the role of site administrator.\n",
    "\n",
    "\n",
    " **Missing values**  \n",
    "- Below the header *Non-Null* we see how many non-null values we have per column.  Except for description, we have 40840 non-null values in each column which is exactly the same number as we have rows.   \n",
    " Meaning: We only seem to have missing values in the description column.\n",
    "\n",
    "- Regarding our shape, we see that we have 150202 values in total: (150202, 18)\n",
    "\n",
    "#   Column            Non-Null Count   Dtype  \n",
    "---  ------            --------------   -----    \n",
    " 4   name              138120 non-null  object \n",
    " 5   company           73999 non-null   object \n",
    " 6   blog              99112 non-null   object \n",
    " 7   location          110605 non-null  object \n",
    " 8   email             69007 non-null   object \n",
    " 9   hireable          38183 non-null   object \n",
    " 10  bio               96058 non-null   object \n",
    " 11  twitter_username  50959 non-null   object \n",
    "\n",
    "the above values: name, company, blog, location, email, hireable, bio and twitter_username do have missings\n",
    "\n",
    "- the following values do not have any missings: login, avatur_url, type, site_admin, public_repos, public_gists, followers, following, \n",
    "created_at, updated_at\n",
    "\n",
    "#   Column            Non-Null Count   Dtype  \n",
    "---  ------            --------------   -----  \n",
    " 0   login             150202 non-null  object \n",
    " 1   avatar_url        150202 non-null  object \n",
    " 2   type              150202 non-null  object \n",
    " 3   site_admin        150202 non-null  bool   \n",
    " 12  public_repos      150202 non-null  float64\n",
    " 13  public_gists      150202 non-null  float64\n",
    " 14  followers         150202 non-null  float64\n",
    " 15  following         150202 non-null  float64\n",
    " 16  created_at        150202 non-null  object \n",
    " 17  updated_at        150202 non-null  object \n",
    "\n"
   ]
  },
  {
   "cell_type": "code",
   "execution_count": 37,
   "metadata": {},
   "outputs": [
    {
     "name": "stdout",
     "output_type": "stream",
     "text": [
      "login                object\n",
      "avatar_url           object\n",
      "type                 object\n",
      "site_admin             bool\n",
      "name                 object\n",
      "company              object\n",
      "blog                 object\n",
      "location             object\n",
      "email                object\n",
      "hireable            boolean\n",
      "bio                  object\n",
      "twitter_username     object\n",
      "public_repos        float64\n",
      "public_gists        float64\n",
      "followers           float64\n",
      "following           float64\n",
      "created_at           object\n",
      "updated_at           object\n",
      "dtype: object\n"
     ]
    }
   ],
   "source": [
    "# type\n",
    "# needs to be converted to string and \"Organization\"-rows needs to be deleted \n",
    "df['type'] = df['type'].astype(str)\n",
    "print(df.dtypes)\n",
    "# Umwandlung in string anstatt type klappt nicht\n",
    "# check datatypes"
   ]
  },
  {
   "cell_type": "code",
   "execution_count": 39,
   "metadata": {},
   "outputs": [
    {
     "name": "stdout",
     "output_type": "stream",
     "text": [
      "object\n",
      "Type of User: <class 'str'>\n",
      "Type of Organization: <class 'str'>\n"
     ]
    }
   ],
   "source": [
    "print(df[\"type\"].dtype) #object\n",
    "unique_values_type = df[\"type\"].unique()\n",
    "for value in unique_values_type:\n",
    "    print(f\"Type of {value}: {type(value)}\")\n",
    "\n",
    "#In this case, the column does not contain any Python objects such as lists or dictionaries, but only character strings. \n",
    "#Therefore, there is no \n",
    "#need to convert these strings into other data types, as they are already recognized as \"object\" (string)."
   ]
  },
  {
   "cell_type": "code",
   "execution_count": 8,
   "metadata": {},
   "outputs": [
    {
     "name": "stdout",
     "output_type": "stream",
     "text": [
      "2\n"
     ]
    }
   ],
   "source": [
    " #check bool: Reg. the side_admin-value: \n",
    "count_uniques_site_admin=df[\"site_admin\"].nunique()\n",
    "print(count_uniques_site_admin)\n",
    "# reg. site_admin there are two uniques values. check! TRUE and FALSE"
   ]
  },
  {
   "cell_type": "code",
   "execution_count": 9,
   "metadata": {},
   "outputs": [
    {
     "name": "stdout",
     "output_type": "stream",
     "text": [
      "site_admin\n",
      "False    149698\n",
      "True        504\n",
      "Name: count, dtype: int64\n"
     ]
    }
   ],
   "source": [
    "#count how many TRUE and how many FALSE reg. site_admin \n",
    "count_uniques_value_count=df[\"site_admin\"].value_counts()\n",
    "print(count_uniques_value_count)\n",
    "#504 True, that means that 504 users listed in this dataset are site_admins\n",
    "#keep that in mind for later suggestions"
   ]
  },
  {
   "cell_type": "code",
   "execution_count": null,
   "metadata": {},
   "outputs": [],
   "source": [
    "#to think about later: are there are correlations reg. site_admin and success reg. username and repo\n",
    "#keep in mind! "
   ]
  },
  {
   "cell_type": "code",
   "execution_count": 20,
   "metadata": {},
   "outputs": [
    {
     "name": "stdout",
     "output_type": "stream",
     "text": [
      "12082\n",
      "76203\n",
      "51090\n",
      "39597\n",
      "81195\n",
      "112019\n",
      "99243\n",
      "54144\n"
     ]
    }
   ],
   "source": [
    "#check how to deal with the missings here\n",
    "print(df[\"name\"].isnull().sum())\n",
    "print(df[\"company\"].isnull().sum())\n",
    "print(df[\"blog\"].isnull().sum())\n",
    "print(df[\"location\"].isnull().sum())\n",
    "print(df[\"email\"].isnull().sum())\n",
    "print(df[\"hireable\"].isnull().sum())\n",
    "print(df[\"twitter_username\"].isnull().sum())\n",
    "print(df[\"bio\"].isnull().sum())\n",
    "\n"
   ]
  },
  {
   "cell_type": "code",
   "execution_count": null,
   "metadata": {},
   "outputs": [],
   "source": [
    "# are there any values of the having missings one, we can decide to delete or create a new df without them? \n",
    "# lets check\n",
    "# the above values: name, company, blog, location, email, hireable, bio and twitter_username do have missings"
   ]
  },
  {
   "cell_type": "code",
   "execution_count": null,
   "metadata": {},
   "outputs": [],
   "source": [
    "# checking how to deal with the missings here\n",
    "\n",
    "# delete, or keep, but create new df without this variable\n",
    "# name is the complete private name, so for privacy reasons, some have not added them,\n",
    "# so we do not want them in our study for privacy reasons\n",
    "# same with # company\n",
    "# same with # blog\n",
    "# same with # # email\n",
    "\n",
    "# deal with the missings\n",
    "\n",
    "# keep in mind for later research\n",
    "# hireable : keep in mind for later research (112019 missings)\n",
    "# location: keep in mind for later research (39597 missings)\n",
    "\n",
    "#NLP????\n",
    "# bio: interesting information and hashtags reg. interests of user, keep in mind for NLP component extractions maybe?!\n",
    "# (54144 missings)\n",
    "# twitter_username (99243 missings) interesting reg. entropy research"
   ]
  },
  {
   "cell_type": "code",
   "execution_count": null,
   "metadata": {},
   "outputs": [],
   "source": [
    "# result of checking missings.. for entropy df and research we can just take variables with no missings\n",
    "# and keep the others in mind for later research\n",
    "# so creating now a new df!"
   ]
  },
  {
   "cell_type": "markdown",
   "metadata": {},
   "source": [
    "Transform data: Perform data manipulations such as converting data types, creating new variables and aggregating data."
   ]
  },
  {
   "cell_type": "code",
   "execution_count": 22,
   "metadata": {},
   "outputs": [],
   "source": [
    "# Summary\n",
    "#create new df including the following variables: login,\n",
    "\n",
    " #0   login             150202 non-null  object >keep for new df\n",
    " #1   avatar_url        150202 non-null  object > save for later research \n",
    " #2   type              150202 non-null  object >keep for new df\n",
    " #3   site_admin        150202 non-null  bool >keep for new df  \n",
    " #12  public_repos      150202 non-null  float64 >keep for new df\n",
    " #13  public_gists      150202 non-null  float64 >keep for new df\n",
    " #14  followers         150202 non-null  float64 >keep for new df\n",
    " #15  following         150202 non-null  float64 >keep for new df\n",
    " #16  created_at        150202 non-null  object >keep for new df\n",
    " #17  updated_at        150202 non-null  object >keep for new df\n",
    "\n",
    "# not necessary variables: \n",
    "# avatar_url : \n",
    "# The \"Avatar URL\" on GitHub is the URL that points to a user's profile picture or avatar.\n",
    "# It allows users to access and display a user's \n",
    "# profile picture for various purposes such as viewing profiles or interacting with user data via the GitHub API.\n",
    "# type : \n",
    "# this means whether the type of login/username is a user itself or a organization? check below. \n",
    "\n",
    "\n",
    "# what to do with type? \n",
    "import pandas as pd\n",
    "df_entropy = df[[\"login\",\"type\",\"site_admin\",\"public_repos\",\"public_gists\",\"followers\",\"following\",\"created_at\",\"updated_at\"]]\n"
   ]
  },
  {
   "cell_type": "code",
   "execution_count": 23,
   "metadata": {},
   "outputs": [
    {
     "name": "stdout",
     "output_type": "stream",
     "text": [
      "<class 'pandas.core.frame.DataFrame'>\n",
      "RangeIndex: 150202 entries, 0 to 150201\n",
      "Data columns (total 9 columns):\n",
      " #   Column        Non-Null Count   Dtype  \n",
      "---  ------        --------------   -----  \n",
      " 0   login         150202 non-null  object \n",
      " 1   type          150202 non-null  object \n",
      " 2   site_admin    150202 non-null  bool   \n",
      " 3   public_repos  150202 non-null  float64\n",
      " 4   public_gists  150202 non-null  float64\n",
      " 5   followers     150202 non-null  float64\n",
      " 6   following     150202 non-null  float64\n",
      " 7   created_at    150202 non-null  object \n",
      " 8   updated_at    150202 non-null  object \n",
      "dtypes: bool(1), float64(4), object(4)\n",
      "memory usage: 9.3+ MB\n"
     ]
    }
   ],
   "source": [
    "df_entropy.info() #check: new dataframe with necessary variables and without missings"
   ]
  },
  {
   "cell_type": "code",
   "execution_count": null,
   "metadata": {},
   "outputs": [],
   "source": [
    "# further to do\n",
    "# check dtypes\n",
    "# datatypes? created_at e.g.\n",
    "# delete type \"Organization\"\n",
    "# rename login to username\n",
    "# create column being_active_period"
   ]
  },
  {
   "cell_type": "code",
   "execution_count": 31,
   "metadata": {},
   "outputs": [
    {
     "name": "stdout",
     "output_type": "stream",
     "text": [
      "login                object\n",
      "avatar_url           object\n",
      "type                 object\n",
      "site_admin             bool\n",
      "name                 object\n",
      "company              object\n",
      "blog                 object\n",
      "location             object\n",
      "email                object\n",
      "hireable            boolean\n",
      "bio                  object\n",
      "twitter_username     object\n",
      "public_repos        float64\n",
      "public_gists        float64\n",
      "followers           float64\n",
      "following           float64\n",
      "created_at           object\n",
      "updated_at           object\n",
      "dtype: object\n"
     ]
    }
   ],
   "source": [
    "df.loc[:, 'login'] = df['login'].astype(str)\n",
    "print(df.dtypes)"
   ]
  },
  {
   "cell_type": "code",
   "execution_count": 32,
   "metadata": {},
   "outputs": [
    {
     "name": "stdout",
     "output_type": "stream",
     "text": [
      "username         object\n",
      "type             object\n",
      "site_admin         bool\n",
      "public_repos    float64\n",
      "public_gists    float64\n",
      "followers       float64\n",
      "following       float64\n",
      "created_at       object\n",
      "updated_at       object\n",
      "dtype: object\n"
     ]
    },
    {
     "name": "stderr",
     "output_type": "stream",
     "text": [
      "/var/folders/t2/0dd5c77165b7j2h486htbk100000gn/T/ipykernel_27724/2853636612.py:4: SettingWithCopyWarning: \n",
      "A value is trying to be set on a copy of a slice from a DataFrame\n",
      "\n",
      "See the caveats in the documentation: https://pandas.pydata.org/pandas-docs/stable/user_guide/indexing.html#returning-a-view-versus-a-copy\n",
      "  df_entropy.rename(columns={'login': 'username'}, inplace=True)\n",
      "/var/folders/t2/0dd5c77165b7j2h486htbk100000gn/T/ipykernel_27724/2853636612.py:5: SettingWithCopyWarning: \n",
      "A value is trying to be set on a copy of a slice from a DataFrame.\n",
      "Try using .loc[row_indexer,col_indexer] = value instead\n",
      "\n",
      "See the caveats in the documentation: https://pandas.pydata.org/pandas-docs/stable/user_guide/indexing.html#returning-a-view-versus-a-copy\n",
      "  df_entropy['username'] = df_entropy['username'].astype(str)\n"
     ]
    }
   ],
   "source": [
    "# login\n",
    "# needs to be converted to string and renamed to username\n",
    "#df_entropy['login'] = df_entropy['login'].astype(str)\n",
    "df_entropy.rename(columns={'login': 'username'}, inplace=True)\n",
    "df_entropy['username'] = df_entropy['username'].astype(str)\n",
    "print(df_entropy.dtypes) # username still is object and not str? check\n",
    "#print(df_entropy['username'].apply(type))\n",
    "\n",
    "#it is not possible to change login/username to string? why? check! \n",
    "\n",
    "#The warning \"value is trying to be set on a copy of a slice from a DataFrame\" occurs when Pandas suspects \n",
    "#that you are trying to assign values to a copy of a \n",
    "#DataFrame slice instead of the original DataFrame. This can lead to unexpected behavior.\n",
    "\n",
    "# see above! already \"object\" (string)"
   ]
  },
  {
   "cell_type": "code",
   "execution_count": 36,
   "metadata": {},
   "outputs": [
    {
     "name": "stdout",
     "output_type": "stream",
     "text": [
      "username         object\n",
      "type             object\n",
      "site_admin         bool\n",
      "public_repos    float64\n",
      "public_gists    float64\n",
      "followers       float64\n",
      "following       float64\n",
      "created_at       object\n",
      "updated_at       object\n",
      "dtype: object\n"
     ]
    }
   ],
   "source": [
    "df_entropy.loc[:, 'username'] = df_entropy['username'].astype(str)\n",
    "print(df_entropy.dtypes)"
   ]
  },
  {
   "cell_type": "code",
   "execution_count": 40,
   "metadata": {},
   "outputs": [
    {
     "name": "stdout",
     "output_type": "stream",
     "text": [
      "type\n",
      "User    140941\n",
      "Name: count, dtype: int64\n"
     ]
    }
   ],
   "source": [
    "# type\n",
    "# \"Organization\"-rows needs to be deleted \n",
    "#Remove all rows in which the value \"Organization\" appears in the \"type\" column\n",
    "df_entropy = df_entropy[df_entropy['type'] != 'Organization']\n",
    "count_uniques_value_count_type=df_entropy[\"type\"].value_counts()\n",
    "print(count_uniques_value_count_type) "
   ]
  },
  {
   "cell_type": "code",
   "execution_count": 41,
   "metadata": {},
   "outputs": [
    {
     "name": "stdout",
     "output_type": "stream",
     "text": [
      "username        object\n",
      "type            object\n",
      "site_admin        bool\n",
      "public_repos     int64\n",
      "public_gists     int64\n",
      "followers        int64\n",
      "following        int64\n",
      "created_at      object\n",
      "updated_at      object\n",
      "dtype: object\n"
     ]
    },
    {
     "name": "stderr",
     "output_type": "stream",
     "text": [
      "/var/folders/t2/0dd5c77165b7j2h486htbk100000gn/T/ipykernel_27724/2547979355.py:5: SettingWithCopyWarning: \n",
      "A value is trying to be set on a copy of a slice from a DataFrame.\n",
      "Try using .loc[row_indexer,col_indexer] = value instead\n",
      "\n",
      "See the caveats in the documentation: https://pandas.pydata.org/pandas-docs/stable/user_guide/indexing.html#returning-a-view-versus-a-copy\n",
      "  df_entropy['public_repos'] = df_entropy['public_repos'].astype(int)\n",
      "/var/folders/t2/0dd5c77165b7j2h486htbk100000gn/T/ipykernel_27724/2547979355.py:6: SettingWithCopyWarning: \n",
      "A value is trying to be set on a copy of a slice from a DataFrame.\n",
      "Try using .loc[row_indexer,col_indexer] = value instead\n",
      "\n",
      "See the caveats in the documentation: https://pandas.pydata.org/pandas-docs/stable/user_guide/indexing.html#returning-a-view-versus-a-copy\n",
      "  df_entropy['public_gists'] = df_entropy['public_gists'].astype(int)\n",
      "/var/folders/t2/0dd5c77165b7j2h486htbk100000gn/T/ipykernel_27724/2547979355.py:7: SettingWithCopyWarning: \n",
      "A value is trying to be set on a copy of a slice from a DataFrame.\n",
      "Try using .loc[row_indexer,col_indexer] = value instead\n",
      "\n",
      "See the caveats in the documentation: https://pandas.pydata.org/pandas-docs/stable/user_guide/indexing.html#returning-a-view-versus-a-copy\n",
      "  df_entropy['followers'] = df_entropy['followers'].astype(int)\n",
      "/var/folders/t2/0dd5c77165b7j2h486htbk100000gn/T/ipykernel_27724/2547979355.py:8: SettingWithCopyWarning: \n",
      "A value is trying to be set on a copy of a slice from a DataFrame.\n",
      "Try using .loc[row_indexer,col_indexer] = value instead\n",
      "\n",
      "See the caveats in the documentation: https://pandas.pydata.org/pandas-docs/stable/user_guide/indexing.html#returning-a-view-versus-a-copy\n",
      "  df_entropy['following'] = df_entropy['following'].astype(int)\n"
     ]
    }
   ],
   "source": [
    "# public_repos, public_gists, followers, following \n",
    "# needs to be converted to int64 instead of float\n",
    "# Convert the columns from float to integer\n",
    "\n",
    "df_entropy['public_repos'] = df_entropy['public_repos'].astype(int)\n",
    "df_entropy['public_gists'] = df_entropy['public_gists'].astype(int)\n",
    "df_entropy['followers'] = df_entropy['followers'].astype(int)\n",
    "df_entropy['following'] = df_entropy['following'].astype(int)\n",
    "print(df_entropy.dtypes)"
   ]
  },
  {
   "cell_type": "code",
   "execution_count": null,
   "metadata": {},
   "outputs": [],
   "source": [
    "# created_at and updated_at needs to be converted to kind of data type. Check! \n",
    "# Format: Formel out of csv: 2011-09-03T15:26:22Z \n",
    "# The format \"2011-09-03T15:26:22Z\" is an ISO 8601 date format that specifies the date and time in\n",
    "# UTC time format. The individual parts of the format mean\n",
    "\n",
    "#2011-09-03: Year-Month-Day\n",
    "#T: Separator between date and time\n",
    "#15:26:22: hours:minutes:seconds\n",
    "#Z: Time zone, in this case UTC"
   ]
  },
  {
   "cell_type": "code",
   "execution_count": 42,
   "metadata": {},
   "outputs": [
    {
     "name": "stdout",
     "output_type": "stream",
     "text": [
      "username                     object\n",
      "type                         object\n",
      "site_admin                     bool\n",
      "public_repos                  int64\n",
      "public_gists                  int64\n",
      "followers                     int64\n",
      "following                     int64\n",
      "created_at      datetime64[ns, UTC]\n",
      "updated_at      datetime64[ns, UTC]\n",
      "dtype: object\n"
     ]
    },
    {
     "name": "stderr",
     "output_type": "stream",
     "text": [
      "/var/folders/t2/0dd5c77165b7j2h486htbk100000gn/T/ipykernel_27724/4095048763.py:2: SettingWithCopyWarning: \n",
      "A value is trying to be set on a copy of a slice from a DataFrame.\n",
      "Try using .loc[row_indexer,col_indexer] = value instead\n",
      "\n",
      "See the caveats in the documentation: https://pandas.pydata.org/pandas-docs/stable/user_guide/indexing.html#returning-a-view-versus-a-copy\n",
      "  df_entropy['created_at'] = pd.to_datetime(df_entropy['created_at'])\n",
      "/var/folders/t2/0dd5c77165b7j2h486htbk100000gn/T/ipykernel_27724/4095048763.py:3: SettingWithCopyWarning: \n",
      "A value is trying to be set on a copy of a slice from a DataFrame.\n",
      "Try using .loc[row_indexer,col_indexer] = value instead\n",
      "\n",
      "See the caveats in the documentation: https://pandas.pydata.org/pandas-docs/stable/user_guide/indexing.html#returning-a-view-versus-a-copy\n",
      "  df_entropy['updated_at'] = pd.to_datetime(df_entropy['updated_at'])\n"
     ]
    }
   ],
   "source": [
    "# Convert the columns 'created_at' and 'updated_at' into a DateTime object\n",
    "df_entropy['created_at'] = pd.to_datetime(df_entropy['created_at'])\n",
    "df_entropy['updated_at'] = pd.to_datetime(df_entropy['updated_at'])\n",
    "print(df_entropy.dtypes)"
   ]
  },
  {
   "cell_type": "code",
   "execution_count": null,
   "metadata": {},
   "outputs": [],
   "source": [
    "# variables to be saved for later research and pot. new dfs (be aware of pot. convertions of dtypes! and check missings as \n",
    "# describe above)\n",
    "# 1   avatar_url        150202 non-null  object > no missings! \n",
    "# 4   name              138120 non-null  object \n",
    "# 5   company           73999 non-null   object \n",
    "# 6   blog              99112 non-null   object \n",
    "# 7   location          110605 non-null  object \n",
    "# 8   email             69007 non-null   object \n",
    "# 9   hireable          38183 non-null   object \n",
    "# 10  bio               96058 non-null   object \n",
    "# 11  twitter_username  50959 non-null   object "
   ]
  },
  {
   "cell_type": "code",
   "execution_count": 21,
   "metadata": {},
   "outputs": [
    {
     "name": "stdout",
     "output_type": "stream",
     "text": [
      "type\n",
      "User            140941\n",
      "Organization      9261\n",
      "Name: count, dtype: int64\n"
     ]
    }
   ],
   "source": [
    "# check the variable type\n",
    "#count how many unique reg. type\n",
    "count_uniques_value_count_type=df[\"type\"].value_counts()\n",
    "print(count_uniques_value_count_type)\n",
    "# there are two types: User and Organization, as we want to analyze personal branding reg. usernames, we here decide to \n",
    "# keep just the User ones and delete the others? that means also a reduction of pot. usernames? maybe first let them in, \n",
    "# and then decide to analyze entropy values comparing User and Orgas maybe? "
   ]
  },
  {
   "cell_type": "code",
   "execution_count": null,
   "metadata": {},
   "outputs": [],
   "source": [
    "#check how to deal with the object values? check, if every variables now have the correct dtype? \n",
    "# username and type are still object? check "
   ]
  },
  {
   "cell_type": "code",
   "execution_count": 15,
   "metadata": {},
   "outputs": [
    {
     "name": "stdout",
     "output_type": "stream",
     "text": [
      "hireable\n",
      "True    38183\n",
      "Name: count, dtype: int64\n"
     ]
    }
   ],
   "source": [
    "#hireable is marked as an object, whereas it is a boolsch (TRUE and FALSE), but keep in mind: maybe we do not need this value\n",
    "#count how many TRUE and how many FALSE reg. hireable\n",
    "count_uniques_value_count_hir=df[\"hireable\"].value_counts()\n",
    "print(count_uniques_value_count_hir)\n",
    "#38183 True, that means that 38183 users listed in this dataset are hireable\n",
    "#the other rows are missing as we cannot find any FALSE? interesting? 112019 are missing... \n",
    "#keep that in mind for later suggestions\n",
    "#maybe we can check whether there are any correlations reg. hireable and success"
   ]
  },
  {
   "cell_type": "code",
   "execution_count": 19,
   "metadata": {},
   "outputs": [
    {
     "name": "stdout",
     "output_type": "stream",
     "text": [
      "<class 'pandas.core.frame.DataFrame'>\n",
      "RangeIndex: 150202 entries, 0 to 150201\n",
      "Data columns (total 18 columns):\n",
      " #   Column            Non-Null Count   Dtype  \n",
      "---  ------            --------------   -----  \n",
      " 0   login             150202 non-null  object \n",
      " 1   avatar_url        150202 non-null  object \n",
      " 2   type              150202 non-null  object \n",
      " 3   site_admin        150202 non-null  bool   \n",
      " 4   name              138120 non-null  object \n",
      " 5   company           73999 non-null   object \n",
      " 6   blog              99112 non-null   object \n",
      " 7   location          110605 non-null  object \n",
      " 8   email             69007 non-null   object \n",
      " 9   hireable          38183 non-null   boolean\n",
      " 10  bio               96058 non-null   object \n",
      " 11  twitter_username  50959 non-null   object \n",
      " 12  public_repos      150202 non-null  float64\n",
      " 13  public_gists      150202 non-null  float64\n",
      " 14  followers         150202 non-null  float64\n",
      " 15  following         150202 non-null  float64\n",
      " 16  created_at        150202 non-null  object \n",
      " 17  updated_at        150202 non-null  object \n",
      "dtypes: bool(1), boolean(1), float64(4), object(12)\n",
      "memory usage: 18.8+ MB\n"
     ]
    }
   ],
   "source": [
    "# now already convert hireable from object to boolean\n",
    "df[\"hireable\"] = df[\"hireable\"].astype(\"boolean\")\n",
    "df.info()\n",
    "#that worked: now the value hireable is a boolean"
   ]
  },
  {
   "cell_type": "code",
   "execution_count": 45,
   "metadata": {},
   "outputs": [],
   "source": [
    "# create a new column \n",
    "# Calculate the difference between 'updated_at' and 'created_at'\n",
    "delta = df_entropy['updated_at'] - df_entropy['created_at']\n",
    "\n",
    "# Extract the number of years, months and days from the time delta\n",
    "years = delta.dt.days // 365\n",
    "months = (delta.dt.days % 365) // 30\n",
    "days = (delta.dt.days % 365) % 30\n",
    "\n",
    "# Create a new column with the total duration in years, months and days\n",
    "df_entropy['duration'] = (years.astype(str) + ' Jahre, ' + \n",
    "                          months.astype(str) + ' Monate, ' + \n",
    "                          days.astype(str) + ' Tage')\n",
    "\n"
   ]
  },
  {
   "cell_type": "code",
   "execution_count": 46,
   "metadata": {},
   "outputs": [
    {
     "name": "stdout",
     "output_type": "stream",
     "text": [
      "<class 'pandas.core.frame.DataFrame'>\n",
      "Index: 140941 entries, 0 to 150201\n",
      "Data columns (total 10 columns):\n",
      " #   Column        Non-Null Count   Dtype              \n",
      "---  ------        --------------   -----              \n",
      " 0   username      140941 non-null  object             \n",
      " 1   type          140941 non-null  object             \n",
      " 2   site_admin    140941 non-null  bool               \n",
      " 3   public_repos  140941 non-null  int64              \n",
      " 4   public_gists  140941 non-null  int64              \n",
      " 5   followers     140941 non-null  int64              \n",
      " 6   following     140941 non-null  int64              \n",
      " 7   created_at    140941 non-null  datetime64[ns, UTC]\n",
      " 8   updated_at    140941 non-null  datetime64[ns, UTC]\n",
      " 9   duration      140941 non-null  object             \n",
      "dtypes: bool(1), datetime64[ns, UTC](2), int64(4), object(3)\n",
      "memory usage: 10.9+ MB\n",
      "None\n"
     ]
    }
   ],
   "source": [
    "print(df_entropy.info())\n",
    "# duration seems to be object"
   ]
  },
  {
   "cell_type": "code",
   "execution_count": 49,
   "metadata": {},
   "outputs": [
    {
     "name": "stdout",
     "output_type": "stream",
     "text": [
      "<class 'pandas.core.frame.DataFrame'>\n",
      "Index: 140941 entries, 0 to 150201\n",
      "Data columns (total 10 columns):\n",
      " #   Column        Non-Null Count   Dtype              \n",
      "---  ------        --------------   -----              \n",
      " 0   username      140941 non-null  object             \n",
      " 1   type          140941 non-null  object             \n",
      " 2   site_admin    140941 non-null  bool               \n",
      " 3   public_repos  140941 non-null  int64              \n",
      " 4   public_gists  140941 non-null  int64              \n",
      " 5   followers     140941 non-null  int64              \n",
      " 6   following     140941 non-null  int64              \n",
      " 7   created_at    140941 non-null  datetime64[ns, UTC]\n",
      " 8   updated_at    140941 non-null  datetime64[ns, UTC]\n",
      " 9   duration      140941 non-null  timedelta64[ns]    \n",
      "dtypes: bool(1), datetime64[ns, UTC](2), int64(4), object(2), timedelta64[ns](1)\n",
      "memory usage: 10.9+ MB\n",
      "None\n"
     ]
    }
   ],
   "source": [
    "# Convert the \"duration\" column to a datetime format\n",
    "df_entropy['duration'] = (df_entropy['duration'].str.extract(r'(\\d+) Jahre').astype(int) * 365 +\n",
    "                          df_entropy['duration'].str.extract(r'(\\d+) Monate').astype(int) * 30 +\n",
    "                          df_entropy['duration'].str.extract(r'(\\d+) Tage').astype(int))\n",
    "\n",
    "df_entropy['duration'] = pd.to_timedelta(df_entropy['duration'], unit='D')\n",
    "print(df_entropy.info())"
   ]
  },
  {
   "cell_type": "code",
   "execution_count": null,
   "metadata": {},
   "outputs": [],
   "source": [
    "#datetime64[ns, UTC]: This data type represents a specific date and time in UTC time format. The [ns] indicates the \n",
    "#precision of the time in nanoseconds. The datetime64[ns, UTC] type is used to specify absolute times, e.g. a specific date and time.\n",
    "#timedelta64[ns]: This data type represents a duration or a time difference between two points in time. \n",
    "#The [ns] again indicates the precision of the time in nanoseconds. The timedelta64[ns] type is used to specify relative \n",
    "#time spans, e.g. the\n",
    "#number of days, hours, minutes or seconds between two points in time."
   ]
  },
  {
   "cell_type": "code",
   "execution_count": 53,
   "metadata": {},
   "outputs": [
    {
     "name": "stdout",
     "output_type": "stream",
     "text": [
      "Requirement already satisfied: scipy in /opt/homebrew/Caskroom/miniconda/base/envs/nf_sql/lib/python3.9/site-packages (1.11.4)\n",
      "Requirement already satisfied: numpy<1.28.0,>=1.21.6 in /opt/homebrew/Caskroom/miniconda/base/envs/nf_sql/lib/python3.9/site-packages (from scipy) (1.26.2)\n"
     ]
    }
   ],
   "source": [
    "# Calculate the entropy for each row in the 'username' column\n",
    "!pip install scipy\n",
    "from scipy.stats import entropy\n",
    "#entropies = df_entropy['username'].apply(lambda x: entropy(list(x)))\n",
    "# Add the calculated entropy values as a new column 'entropy' to the DataFrame\n",
    "#df_entropy['entropy'] = entropies\n",
    "\n",
    "#does not work as the username is a string and not a numeric variable"
   ]
  },
  {
   "cell_type": "markdown",
   "metadata": {},
   "source": [
    "Entropy\n",
    "indicating a problem with data type. data types of the values in the 'username' column may not be compatible with the entropy function. entropy function in scipy.stats is just intended for numeric values, not strings. how to define the entropy of strings, as scipy is intended for numeric distributions.\n",
    "\n",
    "entropy of the usernames as a measure? Higher entropy values indicate that usernames are less predictable and possibly more encrypted or less readable.\n",
    "\n",
    "#write a function counting the number of different characters in each username and calculates the entropy based on those counts?"
   ]
  },
  {
   "cell_type": "code",
   "execution_count": 55,
   "metadata": {},
   "outputs": [
    {
     "name": "stdout",
     "output_type": "stream",
     "text": [
      "<class 'pandas.core.frame.DataFrame'>\n",
      "Index: 140941 entries, 0 to 150201\n",
      "Data columns (total 11 columns):\n",
      " #   Column        Non-Null Count   Dtype              \n",
      "---  ------        --------------   -----              \n",
      " 0   username      140941 non-null  object             \n",
      " 1   type          140941 non-null  object             \n",
      " 2   site_admin    140941 non-null  bool               \n",
      " 3   public_repos  140941 non-null  int64              \n",
      " 4   public_gists  140941 non-null  int64              \n",
      " 5   followers     140941 non-null  int64              \n",
      " 6   following     140941 non-null  int64              \n",
      " 7   created_at    140941 non-null  datetime64[ns, UTC]\n",
      " 8   updated_at    140941 non-null  datetime64[ns, UTC]\n",
      " 9   duration      140941 non-null  timedelta64[ns]    \n",
      " 10  entropy       140941 non-null  float64            \n",
      "dtypes: bool(1), datetime64[ns, UTC](2), float64(1), int64(4), object(2), timedelta64[ns](1)\n",
      "memory usage: 12.0+ MB\n",
      "None\n"
     ]
    }
   ],
   "source": [
    "import pandas as pd\n",
    "import math\n",
    "from collections import Counter\n",
    "\n",
    "# Function for calculating the entropy of a user name\n",
    "def calculate_entropy(username):\n",
    "    if len(username) == 0:\n",
    "        return 0\n",
    "    username_counts = Counter(username)\n",
    "    username_length = len(username)\n",
    "    entropy = 0\n",
    "    for count in username_counts.values():\n",
    "        probability = count / username_length\n",
    "        entropy -= probability * math.log2(probability)\n",
    "    return entropy\n",
    "\n",
    "# Apply function to the 'username' column to calculate the entropy for each username\n",
    "df_entropy['entropy'] = df_entropy['username'].apply(calculate_entropy)\n",
    "\n",
    "# Output of the DataFrame with the new 'entropy' column\n",
    "print(df_entropy.info())"
   ]
  },
  {
   "cell_type": "markdown",
   "metadata": {},
   "source": [
    "This function calculate_entropy(username) calculates the entropy of a username. Here is what happens in detail:\n",
    "\n",
    "First, it checks to see if the username is empty. If so, the entropy is returned as 0, since there is no information content.\n",
    "Then a counter object is created that counts the frequency of each character in the username.\n",
    "The length of the username is calculated to normalize the probabilities later.\n",
    "Then the entropy is initialized.\n",
    "The loop loops through the values in the counter object, which contains the frequency of each character. For each character, the probability is calculated by dividing the frequency by the length of the user name. Then the entropy is calculated and summed according to the Shannon entropy formula.\n",
    "Finally, the calculated entropy is returned.\n",
    "So the function uses the Shannon entropy formula to calculate the information content of a username based on the distribution of characters in that name."
   ]
  },
  {
   "cell_type": "code",
   "execution_count": null,
   "metadata": {},
   "outputs": [],
   "source": [
    "# Entropy is a quantitative measurement of information content\n",
    "# floating point number (float) to allow precise representation. \n",
    "# integer would maybe not be sufficient to capture the subtleties of entropy values."
   ]
  },
  {
   "cell_type": "code",
   "execution_count": 56,
   "metadata": {},
   "outputs": [
    {
     "data": {
      "text/html": [
       "<div>\n",
       "<style scoped>\n",
       "    .dataframe tbody tr th:only-of-type {\n",
       "        vertical-align: middle;\n",
       "    }\n",
       "\n",
       "    .dataframe tbody tr th {\n",
       "        vertical-align: top;\n",
       "    }\n",
       "\n",
       "    .dataframe thead th {\n",
       "        text-align: right;\n",
       "    }\n",
       "</style>\n",
       "<table border=\"1\" class=\"dataframe\">\n",
       "  <thead>\n",
       "    <tr style=\"text-align: right;\">\n",
       "      <th></th>\n",
       "      <th>public_repos</th>\n",
       "      <th>public_gists</th>\n",
       "      <th>followers</th>\n",
       "      <th>following</th>\n",
       "      <th>duration</th>\n",
       "      <th>entropy</th>\n",
       "    </tr>\n",
       "  </thead>\n",
       "  <tbody>\n",
       "    <tr>\n",
       "      <th>count</th>\n",
       "      <td>140,941.00</td>\n",
       "      <td>140,941.00</td>\n",
       "      <td>140,941.00</td>\n",
       "      <td>140,941.00</td>\n",
       "      <td>140941</td>\n",
       "      <td>140,941.00</td>\n",
       "    </tr>\n",
       "    <tr>\n",
       "      <th>mean</th>\n",
       "      <td>76.35</td>\n",
       "      <td>17.06</td>\n",
       "      <td>285.12</td>\n",
       "      <td>142.30</td>\n",
       "      <td>3110 days 05:00:05.696000384</td>\n",
       "      <td>2.78</td>\n",
       "    </tr>\n",
       "    <tr>\n",
       "      <th>std</th>\n",
       "      <td>356.19</td>\n",
       "      <td>255.33</td>\n",
       "      <td>1,160.41</td>\n",
       "      <td>1,801.76</td>\n",
       "      <td>1443 days 21:36:35.828777424</td>\n",
       "      <td>0.43</td>\n",
       "    </tr>\n",
       "    <tr>\n",
       "      <th>min</th>\n",
       "      <td>0.00</td>\n",
       "      <td>0.00</td>\n",
       "      <td>0.00</td>\n",
       "      <td>0.00</td>\n",
       "      <td>0 days 00:00:00</td>\n",
       "      <td>0.00</td>\n",
       "    </tr>\n",
       "    <tr>\n",
       "      <th>25%</th>\n",
       "      <td>19.00</td>\n",
       "      <td>0.00</td>\n",
       "      <td>88.00</td>\n",
       "      <td>5.00</td>\n",
       "      <td>2037 days 00:00:00</td>\n",
       "      <td>2.52</td>\n",
       "    </tr>\n",
       "    <tr>\n",
       "      <th>50%</th>\n",
       "      <td>42.00</td>\n",
       "      <td>2.00</td>\n",
       "      <td>123.00</td>\n",
       "      <td>28.00</td>\n",
       "      <td>3283 days 00:00:00</td>\n",
       "      <td>2.81</td>\n",
       "    </tr>\n",
       "    <tr>\n",
       "      <th>75%</th>\n",
       "      <td>81.00</td>\n",
       "      <td>13.00</td>\n",
       "      <td>217.00</td>\n",
       "      <td>92.00</td>\n",
       "      <td>4255 days 00:00:00</td>\n",
       "      <td>3.10</td>\n",
       "    </tr>\n",
       "    <tr>\n",
       "      <th>max</th>\n",
       "      <td>50,000.00</td>\n",
       "      <td>62,057.00</td>\n",
       "      <td>192,033.00</td>\n",
       "      <td>302,941.00</td>\n",
       "      <td>5823 days 00:00:00</td>\n",
       "      <td>4.24</td>\n",
       "    </tr>\n",
       "  </tbody>\n",
       "</table>\n",
       "</div>"
      ],
      "text/plain": [
       "       public_repos  public_gists  followers  following  \\\n",
       "count    140,941.00    140,941.00 140,941.00 140,941.00   \n",
       "mean          76.35         17.06     285.12     142.30   \n",
       "std          356.19        255.33   1,160.41   1,801.76   \n",
       "min            0.00          0.00       0.00       0.00   \n",
       "25%           19.00          0.00      88.00       5.00   \n",
       "50%           42.00          2.00     123.00      28.00   \n",
       "75%           81.00         13.00     217.00      92.00   \n",
       "max       50,000.00     62,057.00 192,033.00 302,941.00   \n",
       "\n",
       "                           duration    entropy  \n",
       "count                        140941 140,941.00  \n",
       "mean   3110 days 05:00:05.696000384       2.78  \n",
       "std    1443 days 21:36:35.828777424       0.43  \n",
       "min                 0 days 00:00:00       0.00  \n",
       "25%              2037 days 00:00:00       2.52  \n",
       "50%              3283 days 00:00:00       2.81  \n",
       "75%              4255 days 00:00:00       3.10  \n",
       "max              5823 days 00:00:00       4.24  "
      ]
     },
     "execution_count": 56,
     "metadata": {},
     "output_type": "execute_result"
    }
   ],
   "source": [
    "df_entropy.describe()"
   ]
  },
  {
   "cell_type": "code",
   "execution_count": null,
   "metadata": {},
   "outputs": [],
   "source": [
    "# why do I receive entropy values higher than 1? 4.24 max? check! "
   ]
  },
  {
   "cell_type": "markdown",
   "metadata": {},
   "source": [
    "\n",
    "An entropy value of 4 could indicate that the string has a very high degree of unpredictability. In this case, the string could have a very complex and irregular distribution of characters, making it difficult to recognize patterns or regularities. This means that the string is very diverse and contains a wide variation of characters that are not easily predictable.\n",
    "\n",
    "In terms of usernames, an entropy value of 4 could indicate that the usernames contain a wide variety of characters, both alphabetic characters and special characters, and that no particular patterns or regularities are recognizable in the usernames. This could indicate that the usernames are random or highly individual and have no obvious commonalities.\n",
    "\n"
   ]
  },
  {
   "cell_type": "markdown",
   "metadata": {},
   "source": [
    "plausibility check"
   ]
  },
  {
   "cell_type": "code",
   "execution_count": 60,
   "metadata": {},
   "outputs": [
    {
     "name": "stdout",
     "output_type": "stream",
     "text": [
      "Username with maximum entropy: PClub-Ahmedabad-University\n"
     ]
    }
   ],
   "source": [
    "# Find the index of the entry with the maximum entropy\n",
    "max_entropy_index = df_entropy['entropy'].idxmax()\n",
    "\n",
    "# Select the username with this index\n",
    "username_with_max_entropy = df_entropy.loc[max_entropy_index, 'username']\n",
    "\n",
    "# Print the username\n",
    "print(\"Username with maximum entropy:\", username_with_max_entropy)"
   ]
  },
  {
   "cell_type": "code",
   "execution_count": null,
   "metadata": {},
   "outputs": [],
   "source": [
    "#A username like \"PClub-Ahmedabad-University\" could have a high entropy because it consists of a \n",
    "#combination of different elements that potentially have a random or unpredictable structure. In this case, the high \n",
    "#entropy could indicate that the username is not easy to guess and contains a variety of characters and information. This \n",
    "#could indicate that the user may have deliberately tried to create a unique or hard-to-guess username \n",
    "#that contains various aspects such as the name of a club, university or city."
   ]
  },
  {
   "cell_type": "code",
   "execution_count": 61,
   "metadata": {},
   "outputs": [
    {
     "name": "stdout",
     "output_type": "stream",
     "text": [
      "Username with the lowest entropy: JJ\n"
     ]
    }
   ],
   "source": [
    "# Find the index of the username with the lowest entropy\n",
    "min_entropy_index = df_entropy['entropy'].idxmin()\n",
    "\n",
    "# Get the username with the lowest entropy\n",
    "username_with_min_entropy = df_entropy.loc[min_entropy_index, 'username']\n",
    "\n",
    "# Print the username\n",
    "print(\"Username with the lowest entropy:\", username_with_min_entropy)"
   ]
  },
  {
   "cell_type": "code",
   "execution_count": 62,
   "metadata": {},
   "outputs": [
    {
     "data": {
      "image/png": "[encoded data removed]",
      "text/plain": [
       "<Figure size 800x600 with 1 Axes>"
      ]
     },
     "metadata": {},
     "output_type": "display_data"
    }
   ],
   "source": [
    "import matplotlib.pyplot as plt\n",
    "\n",
    "# Create a boxplot of the entropy values\n",
    "plt.figure(figsize=(8, 6))\n",
    "plt.boxplot(df_entropy['entropy'])\n",
    "plt.title('Boxplot of Entropy Values')\n",
    "plt.ylabel('Entropy')\n",
    "plt.show()"
   ]
  },
  {
   "cell_type": "markdown",
   "metadata": {},
   "source": [
    "The entropy values are between 0 and 1.\n",
    "\n",
    "An entropy value of 0 means that all characters in the username are identical, indicating maximum predictability.\n",
    "A value of 1, on the other hand, means maximum unpredictability or maximum entropy, which indicates that all characters in the user name are unique and no structure or pattern is recognizable.\n",
    "The interpretation depends heavily on the specific application. In some cases, low entropy values may indicate that the usernames are easily predictable, while high entropy values may indicate greater diversity or complexity in the usernames.\n",
    "\n",
    "\"predictable\" and \"interpretable\" essentially means same. A low-entropy username is easier to predict or interpret because it has less variety or pattern. A high entropy username is harder to predict or interpret because it has more variety or random patterns.\n",
    "\n",
    "The entropy was calculated using Shannon entropy (see function above!). This formula is often used to measure the unpredictability of data. For a given column of usernames in the DataFrame, the entropy values were calculated by counting the frequency of each character in the usernames and then calculating the Shannon entropy for that distribution. The higher the entropy, the more unpredictability or diversity there is in the usernames."
   ]
  },
  {
   "cell_type": "code",
   "execution_count": 57,
   "metadata": {},
   "outputs": [
    {
     "data": {
      "image/png": "[encoded data removed]",
      "text/plain": [
       "<Figure size 640x480 with 1 Axes>"
      ]
     },
     "metadata": {},
     "output_type": "display_data"
    }
   ],
   "source": [
    "import matplotlib.pyplot as plt\n",
    "\n",
    "# Assuming df_entropy contains columns 'created_at' and 'entropy'\n",
    "# Make sure 'created_at' is in DateTime format\n",
    "df_entropy['created_at'] = pd.to_datetime(df_entropy['created_at'])\n",
    "\n",
    "# Sort the DataFrame by 'created_at'\n",
    "df_entropy = df_entropy.sort_values(by='created_at')\n",
    "\n",
    "# Plot\n",
    "plt.plot(df_entropy['created_at'], df_entropy['entropy'], marker='o', linestyle='-')\n",
    "plt.xlabel('Date')\n",
    "plt.ylabel('Entropy Value')\n",
    "plt.title('Change in Entropy Values Over Time')\n",
    "plt.xticks(rotation=45)  # Rotate x-axis labels for better readability\n",
    "plt.grid(True)\n",
    "plt.tight_layout()\n",
    "plt.show()\n",
    "\n",
    "#looks not so readable"
   ]
  },
  {
   "cell_type": "code",
   "execution_count": 66,
   "metadata": {},
   "outputs": [
    {
     "data": {
      "image/png": "[encoded data removed]",
      "text/plain": [
       "<Figure size 1000x600 with 1 Axes>"
      ]
     },
     "metadata": {},
     "output_type": "display_data"
    }
   ],
   "source": [
    "import pandas as pd\n",
    "import matplotlib.pyplot as plt\n",
    "\n",
    "# Assuming df_entropy is your DataFrame with timestamps and entropy values\n",
    "# Create a copy of the DataFrame to not alter the timestamps\n",
    "df_copy = df_entropy.copy()\n",
    "\n",
    "# Set 'created_at' as the index of the DataFrame\n",
    "df_copy.set_index('created_at', inplace=True)\n",
    "\n",
    "# Apply a rolling mean function\n",
    "smoothed = df_copy['entropy'].rolling(window=10).mean()\n",
    "\n",
    "# Create a new plot\n",
    "plt.figure(figsize=(10, 6))\n",
    "\n",
    "# Plot the entropy values and the smoothed curve\n",
    "plt.plot(df_copy.index, df_copy['entropy'], label='Entropy')\n",
    "plt.plot(df_copy.index, smoothed, label='Smoothed Entropy', color='red')\n",
    "\n",
    "# Add labels and legend\n",
    "plt.xlabel('Date')\n",
    "plt.ylabel('Entropy')\n",
    "plt.title('Entropy over Time')\n",
    "plt.legend()\n",
    "\n",
    "# Show the plot\n",
    "plt.show()"
   ]
  },
  {
   "cell_type": "code",
   "execution_count": null,
   "metadata": {},
   "outputs": [],
   "source": [
    "# check how to viz this! \n",
    "# check how to interpret entropy and create personal branding column"
   ]
  },
  {
   "cell_type": "markdown",
   "metadata": {},
   "source": [
    "low entropy value in the username indicates that the username is less random or less diverse. This could mean that the username is clearer and easier to remember, which in turn could promote recognition and branding. A clear and consistent username can help build a cohesive online presence and facilitate identity management\n",
    "\n",
    "#1st Idea\n",
    "?add a column that indicates whether the personal branding is good or not based on the entropy score?\n",
    "#set a condition that evaluates the entropy score and sets a value in the new column accordingly.... maybe a function evaluate_branding is defined that receives the entropy value as an argument and decides whether the personal branding is good or not. function is applied to the 'entropy' column of the DataFrame to create a new column 'branding_evaluation' with the corresponding ratings. customizing the condition in the evaluate_branding function to set criteria for good or bad branding?\n",
    "\n",
    "The Shannon entropy formula calculates the entropy based on the probability distribution of characters in a string. It returns values between 0 and 1, where 0 stands for complete predictability and 1 for maximum unpredictability. For personal branding, one could argue that an entropy value close to 0 indicates that the username is very predictable and potentially easy to remember or recognize. A value of 0.5 would mean that the username has a balanced mix of predictability and unpredictability. A value close to 1 would indicate that the username is very unpredictable and may be difficult to remember or recognize, but can be subjective and depends on the specific branding requirements and objectives. A low entropy score might indicate that the username is easily recognizable, which can be beneficial for good branding in some cases. In other cases, however, a certain amount of unpredictability may be desired to make the branding unique and stand out.\n",
    "\n",
    "In this case, one could argue that a low entropy value, close to 0, indicates strong and easily memorable personal branding. Such a username would likely be easy to recognize and remember, which could be beneficial for branding. A higher entropy value would indicate that the username is less predictable and may be more difficult to remember.\n",
    "\n",
    "#2nd IDEA\n",
    "??add a column indicating whether the personal branding is good or not based on the entropy score and perform a threshold analysis. specify that an entropy score below a certain threshold is considered \"good\" for branding, while scores above it are considered \"not so good\".? create a new column called \"branding\" to indicate whether the personal branding is categorized as \"good\" or \"not so good\" based on the entropy value, setting the threshold for the classification. maybe customizing threshold to reflect your specific branding requirements and preferences? "
   ]
  },
  {
   "cell_type": "code",
   "execution_count": null,
   "metadata": {},
   "outputs": [],
   "source": [
    "#1st idea\n",
    "# Assume df_entropy is your DataFrame with the column 'entropy'\n",
    "\n",
    "# Function to evaluate the personal branding based on the entropy value\n",
    "def evaluate_branding(entropy_value):\n",
    "    if entropy_value < 1.5:\n",
    "        return 'Good'\n",
    "    else:\n",
    "        return 'Not Good'\n",
    "\n",
    "# Add a new column that evaluates the branding based on the entropy value\n",
    "df_entropy['branding_evaluation'] = df_entropy['entropy'].apply(evaluate_branding)\n"
   ]
  },
  {
   "cell_type": "code",
   "execution_count": null,
   "metadata": {},
   "outputs": [],
   "source": [
    "#2nd idea\n",
    "# Assumed threshold for branding\n",
    "threshold = 0.2\n",
    "\n",
    "# Function to classify branding based on entropy value\n",
    "def classify_branding(entropy):\n",
    "    if entropy <= threshold:\n",
    "        return 'Good'\n",
    "    else:\n",
    "        return 'Not so good'\n",
    "\n",
    "# Adding the branding classification column to the DataFrame\n",
    "df_entropy['branding'] = df_entropy['entropy'].apply(classify_branding)\n"
   ]
  },
  {
   "cell_type": "code",
   "execution_count": null,
   "metadata": {},
   "outputs": [],
   "source": [
    "# Save the DataFrame as a CSV file\n",
    "#df_entropy.to_csv('df_entropy.csv', index=False)\n",
    "# where your current working directory is\n",
    "#import os\n",
    "#print(os.getcwd())"
   ]
  },
  {
   "cell_type": "markdown",
   "metadata": {},
   "source": [
    "Explore data: Examine the distribution of data, Identify outliers and correlations between variables."
   ]
  },
  {
   "cell_type": "code",
   "execution_count": null,
   "metadata": {},
   "outputs": [],
   "source": []
  }
 ],
 "metadata": {
  "kernelspec": {
   "display_name": "nf_sql",
   "language": "python",
   "name": "python3"
  },
  "language_info": {
   "codemirror_mode": {
    "name": "ipython",
    "version": 3
   },
   "file_extension": ".py",
   "mimetype": "text/x-python",
   "name": "python",
   "nbconvert_exporter": "python",
   "pygments_lexer": "ipython3",
   "version": "3.9.18"
  }
 },
 "nbformat": 4,
 "nbformat_minor": 2
}
